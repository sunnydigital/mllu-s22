{
 "cells": [
  {
   "cell_type": "markdown",
   "metadata": {
    "id": "yBnmbg-jdztQ"
   },
   "source": [
    "# HW2 Spam Classification with LSTM model\n",
    "\n",
    "The deadline is **2 pm Feb 20, 2022**.   \n",
    "You should submit a `.ipynb` file with your solutions to NYU Brightspace.\n",
    "\n",
    "---\n",
    "\n",
    "In this homework, we will reuse the spam prediction dataset used in HW1.\n",
    "We will use a word-level BiLSTM sentence encoder to encode the sentence and a neural network classifier.\n",
    "\n",
    "For reference, you may read [this paper](https://arxiv.org/abs/1705.02364).\n",
    "\n",
    "Content of this HW is related with Lab 3 Deep Learning.\n",
    "\n",
    "## Points distribution\n",
    "\n",
    "1. code `spam_collate_func`: 25 pts\n",
    "2. code `LSTMClassifier.init`: 25 pts\n",
    "3. code `LSTMClassifier.forward`: 20 pts\n",
    "4. code `evaluate`: 10 pts\n",
    "5. code for training loop: 10 pts\n",
    "6. Question: `Why do we want to use early stopping?`: 10 pts\n",
    "\n",
    "How we grade the code: \n",
    "- full points if code works and the underlying logic is correct;\n",
    "- half points if code works but the underlying logic is incorrect;\n",
    "- zero points if code does not work.\n",
    "\n",
    "TLDR: **make sure your code works, i.e. no errors are being produced when you call the function (not when you defined it in the cell!).**\n",
    "\n",
    "How we grade the open question:\n",
    "* full points if your answer follows lecture materials.\n",
    "* zero points if your answer contradicts lecture materials."
   ]
  },
  {
   "cell_type": "markdown",
   "metadata": {
    "id": "TKJv-b6RewJn"
   },
   "source": [
    "# Data Loading\n",
    "First, reuse the code from HW1 to download and read the data."
   ]
  },
  {
   "cell_type": "code",
   "execution_count": 1,
   "metadata": {
    "colab": {
     "base_uri": "https://localhost:8080/"
    },
    "executionInfo": {
     "elapsed": 449,
     "status": "ok",
     "timestamp": 1646086384338,
     "user": {
      "displayName": "Eugene Choi",
      "photoUrl": "https://lh3.googleusercontent.com/a-/AOh14GhveIpPCLim-GOiHCISwC3mqviW1TdYtvymv0zbnw=s64",
      "userId": "01853983499846427113"
     },
     "user_tz": 300
    },
    "id": "QoiahW1_fZ6p",
    "outputId": "d33b76b0-56cd-47a6-d557-22ec6a173438"
   },
   "outputs": [
    {
     "name": "stdout",
     "output_type": "stream",
     "text": [
      "--2022-02-28 22:13:03--  https://docs.google.com/uc?export=download&id=1OVRo37agn02mc6yp5p6-wtJ8Hyb-YMXR\n",
      "Resolving docs.google.com (docs.google.com)... 74.125.124.139, 74.125.124.102, 74.125.124.138, ...\n",
      "Connecting to docs.google.com (docs.google.com)|74.125.124.139|:443... connected.\n",
      "HTTP request sent, awaiting response... 303 See Other\n",
      "Location: https://doc-14-04-docs.googleusercontent.com/docs/securesc/ha0ro937gcuc7l7deffksulhg5h7mbp1/2s351gdccjd2vuhc5jmgln8v2l71vtvo/1646086350000/08752484438609855375/*/1OVRo37agn02mc6yp5p6-wtJ8Hyb-YMXR?e=download [following]\n",
      "Warning: wildcards not supported in HTTP.\n",
      "--2022-02-28 22:13:03--  https://doc-14-04-docs.googleusercontent.com/docs/securesc/ha0ro937gcuc7l7deffksulhg5h7mbp1/2s351gdccjd2vuhc5jmgln8v2l71vtvo/1646086350000/08752484438609855375/*/1OVRo37agn02mc6yp5p6-wtJ8Hyb-YMXR?e=download\n",
      "Resolving doc-14-04-docs.googleusercontent.com (doc-14-04-docs.googleusercontent.com)... 173.194.193.132, 2607:f8b0:4001:c0f::84\n",
      "Connecting to doc-14-04-docs.googleusercontent.com (doc-14-04-docs.googleusercontent.com)|173.194.193.132|:443... connected.\n",
      "HTTP request sent, awaiting response... 200 OK\n",
      "Length: 503663 (492K) [text/csv]\n",
      "Saving to: ‘spam.csv’\n",
      "\n",
      "spam.csv            100%[===================>] 491.86K  --.-KB/s    in 0.005s  \n",
      "\n",
      "2022-02-28 22:13:04 (97.6 MB/s) - ‘spam.csv’ saved [503663/503663]\n",
      "\n"
     ]
    }
   ],
   "source": [
    "!wget 'https://docs.google.com/uc?export=download&id=1OVRo37agn02mc6yp5p6-wtJ8Hyb-YMXR' -O spam.csv"
   ]
  },
  {
   "cell_type": "code",
   "execution_count": 2,
   "metadata": {
    "colab": {
     "base_uri": "https://localhost:8080/",
     "height": 206
    },
    "executionInfo": {
     "elapsed": 155,
     "status": "ok",
     "timestamp": 1646086384491,
     "user": {
      "displayName": "Eugene Choi",
      "photoUrl": "https://lh3.googleusercontent.com/a-/AOh14GhveIpPCLim-GOiHCISwC3mqviW1TdYtvymv0zbnw=s64",
      "userId": "01853983499846427113"
     },
     "user_tz": 300
    },
    "id": "I52OxyBgfi_j",
    "outputId": "19903b14-6987-4992-9358-e5be909fa7c0"
   },
   "outputs": [
    {
     "data": {
      "text/html": [
       "\n",
       "  <div id=\"df-6f129242-0636-4c2f-960e-177eccbad520\">\n",
       "    <div class=\"colab-df-container\">\n",
       "      <div>\n",
       "<style scoped>\n",
       "    .dataframe tbody tr th:only-of-type {\n",
       "        vertical-align: middle;\n",
       "    }\n",
       "\n",
       "    .dataframe tbody tr th {\n",
       "        vertical-align: top;\n",
       "    }\n",
       "\n",
       "    .dataframe thead th {\n",
       "        text-align: right;\n",
       "    }\n",
       "</style>\n",
       "<table border=\"1\" class=\"dataframe\">\n",
       "  <thead>\n",
       "    <tr style=\"text-align: right;\">\n",
       "      <th></th>\n",
       "      <th>v1</th>\n",
       "      <th>v2</th>\n",
       "    </tr>\n",
       "  </thead>\n",
       "  <tbody>\n",
       "    <tr>\n",
       "      <th>0</th>\n",
       "      <td>0</td>\n",
       "      <td>Go until jurong point, crazy.. Available only ...</td>\n",
       "    </tr>\n",
       "    <tr>\n",
       "      <th>1</th>\n",
       "      <td>0</td>\n",
       "      <td>Ok lar... Joking wif u oni...</td>\n",
       "    </tr>\n",
       "    <tr>\n",
       "      <th>2</th>\n",
       "      <td>1</td>\n",
       "      <td>Free entry in 2 a wkly comp to win FA Cup fina...</td>\n",
       "    </tr>\n",
       "    <tr>\n",
       "      <th>3</th>\n",
       "      <td>0</td>\n",
       "      <td>U dun say so early hor... U c already then say...</td>\n",
       "    </tr>\n",
       "    <tr>\n",
       "      <th>4</th>\n",
       "      <td>0</td>\n",
       "      <td>Nah I don't think he goes to usf, he lives aro...</td>\n",
       "    </tr>\n",
       "  </tbody>\n",
       "</table>\n",
       "</div>\n",
       "      <button class=\"colab-df-convert\" onclick=\"convertToInteractive('df-6f129242-0636-4c2f-960e-177eccbad520')\"\n",
       "              title=\"Convert this dataframe to an interactive table.\"\n",
       "              style=\"display:none;\">\n",
       "        \n",
       "  <svg xmlns=\"http://www.w3.org/2000/svg\" height=\"24px\"viewBox=\"0 0 24 24\"\n",
       "       width=\"24px\">\n",
       "    <path d=\"M0 0h24v24H0V0z\" fill=\"none\"/>\n",
       "    <path d=\"M18.56 5.44l.94 2.06.94-2.06 2.06-.94-2.06-.94-.94-2.06-.94 2.06-2.06.94zm-11 1L8.5 8.5l.94-2.06 2.06-.94-2.06-.94L8.5 2.5l-.94 2.06-2.06.94zm10 10l.94 2.06.94-2.06 2.06-.94-2.06-.94-.94-2.06-.94 2.06-2.06.94z\"/><path d=\"M17.41 7.96l-1.37-1.37c-.4-.4-.92-.59-1.43-.59-.52 0-1.04.2-1.43.59L10.3 9.45l-7.72 7.72c-.78.78-.78 2.05 0 2.83L4 21.41c.39.39.9.59 1.41.59.51 0 1.02-.2 1.41-.59l7.78-7.78 2.81-2.81c.8-.78.8-2.07 0-2.86zM5.41 20L4 18.59l7.72-7.72 1.47 1.35L5.41 20z\"/>\n",
       "  </svg>\n",
       "      </button>\n",
       "      \n",
       "  <style>\n",
       "    .colab-df-container {\n",
       "      display:flex;\n",
       "      flex-wrap:wrap;\n",
       "      gap: 12px;\n",
       "    }\n",
       "\n",
       "    .colab-df-convert {\n",
       "      background-color: #E8F0FE;\n",
       "      border: none;\n",
       "      border-radius: 50%;\n",
       "      cursor: pointer;\n",
       "      display: none;\n",
       "      fill: #1967D2;\n",
       "      height: 32px;\n",
       "      padding: 0 0 0 0;\n",
       "      width: 32px;\n",
       "    }\n",
       "\n",
       "    .colab-df-convert:hover {\n",
       "      background-color: #E2EBFA;\n",
       "      box-shadow: 0px 1px 2px rgba(60, 64, 67, 0.3), 0px 1px 3px 1px rgba(60, 64, 67, 0.15);\n",
       "      fill: #174EA6;\n",
       "    }\n",
       "\n",
       "    [theme=dark] .colab-df-convert {\n",
       "      background-color: #3B4455;\n",
       "      fill: #D2E3FC;\n",
       "    }\n",
       "\n",
       "    [theme=dark] .colab-df-convert:hover {\n",
       "      background-color: #434B5C;\n",
       "      box-shadow: 0px 1px 3px 1px rgba(0, 0, 0, 0.15);\n",
       "      filter: drop-shadow(0px 1px 2px rgba(0, 0, 0, 0.3));\n",
       "      fill: #FFFFFF;\n",
       "    }\n",
       "  </style>\n",
       "\n",
       "      <script>\n",
       "        const buttonEl =\n",
       "          document.querySelector('#df-6f129242-0636-4c2f-960e-177eccbad520 button.colab-df-convert');\n",
       "        buttonEl.style.display =\n",
       "          google.colab.kernel.accessAllowed ? 'block' : 'none';\n",
       "\n",
       "        async function convertToInteractive(key) {\n",
       "          const element = document.querySelector('#df-6f129242-0636-4c2f-960e-177eccbad520');\n",
       "          const dataTable =\n",
       "            await google.colab.kernel.invokeFunction('convertToInteractive',\n",
       "                                                     [key], {});\n",
       "          if (!dataTable) return;\n",
       "\n",
       "          const docLinkHtml = 'Like what you see? Visit the ' +\n",
       "            '<a target=\"_blank\" href=https://colab.research.google.com/notebooks/data_table.ipynb>data table notebook</a>'\n",
       "            + ' to learn more about interactive tables.';\n",
       "          element.innerHTML = '';\n",
       "          dataTable['output_type'] = 'display_data';\n",
       "          await google.colab.output.renderOutput(dataTable, element);\n",
       "          const docLink = document.createElement('div');\n",
       "          docLink.innerHTML = docLinkHtml;\n",
       "          element.appendChild(docLink);\n",
       "        }\n",
       "      </script>\n",
       "    </div>\n",
       "  </div>\n",
       "  "
      ],
      "text/plain": [
       "   v1                                                 v2\n",
       "0   0  Go until jurong point, crazy.. Available only ...\n",
       "1   0                      Ok lar... Joking wif u oni...\n",
       "2   1  Free entry in 2 a wkly comp to win FA Cup fina...\n",
       "3   0  U dun say so early hor... U c already then say...\n",
       "4   0  Nah I don't think he goes to usf, he lives aro..."
      ]
     },
     "execution_count": 2,
     "metadata": {},
     "output_type": "execute_result"
    }
   ],
   "source": [
    "import pandas as pd\n",
    "import numpy as np\n",
    "\n",
    "df = pd.read_csv(\"spam.csv\", usecols=[\"v1\", \"v2\"], encoding='latin-1')\n",
    "# 1 - spam, 0 - ham\n",
    "df.v1 = (df.v1 == \"spam\").astype(\"int\")\n",
    "df.head()"
   ]
  },
  {
   "cell_type": "markdown",
   "metadata": {
    "id": "pCihb3oogn27"
   },
   "source": [
    "We will split the data into train, val, and test sets.  \n",
    "`train_texts`, `val_texts`, and `test_texts` should contain a list of text examples in the dataset.\n"
   ]
  },
  {
   "cell_type": "code",
   "execution_count": 8,
   "metadata": {
    "colab": {
     "base_uri": "https://localhost:8080/"
    },
    "executionInfo": {
     "elapsed": 127,
     "status": "ok",
     "timestamp": 1646086426013,
     "user": {
      "displayName": "Eugene Choi",
      "photoUrl": "https://lh3.googleusercontent.com/a-/AOh14GhveIpPCLim-GOiHCISwC3mqviW1TdYtvymv0zbnw=s64",
      "userId": "01853983499846427113"
     },
     "user_tz": 300
    },
    "id": "0H78E3FLgEA2",
    "outputId": "eb03c573-2766-40bc-8f81-6fb27f6c5518"
   },
   "outputs": [
    {
     "name": "stdout",
     "output_type": "stream",
     "text": [
      "Size of initial data: 5572\n",
      "Train size: 3902\n",
      "Val size: 835\n",
      "Test size: 835\n",
      "\n"
     ]
    }
   ],
   "source": [
    "# 0.15 for val, 0.15 for test, 0.7 for train\n",
    "val_size = int(df.shape[0] * 0.15)\n",
    "test_size = int(df.shape[0] * 0.15)\n",
    "\n",
    "# Shuffle the data\n",
    "df = df.sample(frac=1)\n",
    "# Split df to test/val/train\n",
    "test_df = df[:test_size]\n",
    "val_df = df[test_size:test_size+val_size]\n",
    "train_df = df[test_size+val_size:]\n",
    "\n",
    "\n",
    "train_texts, train_labels = list(train_df.v2), list(train_df.v1)\n",
    "val_texts, val_labels     = list(val_df.v2), list(val_df.v1)\n",
    "test_texts, test_labels   = list(test_df.v2), list(test_df.v1)\n",
    "\n",
    "\n",
    "# Check that idces do not overlap\n",
    "assert set(train_df.index).intersection(set(val_df.index)) == set({})\n",
    "assert set(test_df.index).intersection(set(train_df.index)) == set({})\n",
    "assert set(val_df.index).intersection(set(test_df.index)) == set({})\n",
    "# Check that all idces are present\n",
    "assert df.shape[0] == len(train_labels) + len(val_labels) + len(test_labels)\n",
    "\n",
    "# Sizes\n",
    "print(\n",
    "    f\"Size of initial data: {df.shape[0]}\\n\"\n",
    "    f\"Train size: {len(train_labels)}\\n\"\n",
    "    f\"Val size: {len(val_labels)}\\n\"\n",
    "    f\"Test size: {len(test_labels)}\\n\"\n",
    ")"
   ]
  },
  {
   "cell_type": "code",
   "execution_count": 9,
   "metadata": {
    "colab": {
     "base_uri": "https://localhost:8080/"
    },
    "executionInfo": {
     "elapsed": 114,
     "status": "ok",
     "timestamp": 1646086426820,
     "user": {
      "displayName": "Eugene Choi",
      "photoUrl": "https://lh3.googleusercontent.com/a-/AOh14GhveIpPCLim-GOiHCISwC3mqviW1TdYtvymv0zbnw=s64",
      "userId": "01853983499846427113"
     },
     "user_tz": 300
    },
    "id": "FX8D130ngVxu",
    "outputId": "59f591bf-9a45-4b17-f2d9-247b6f7ca096"
   },
   "outputs": [
    {
     "data": {
      "text/plain": [
       "['Anything lar then Ì_ not going home 4 dinner?',\n",
       " 'Is there any movie theatre i can go to and watch unlimited movies and just pay once?',\n",
       " 'Did u see what I posted on your Facebook?',\n",
       " 'I pocked you up there before',\n",
       " 'Whats the staff name who is taking class for us?',\n",
       " \"Just trying to figure out when I'm suppose to see a couple different people this week. We said we'd get together but I didn't set dates\",\n",
       " 'We confirm eating at esplanade?',\n",
       " 'Change windows logoff sound..',\n",
       " \"Have you seen who's back at Holby?!\",\n",
       " '1st wk FREE! Gr8 tones str8 2 u each wk. Txt NOKIA ON to 8007 for Classic Nokia tones or HIT ON to 8007 for Polys. Nokia/150p Poly/200p 16+']"
      ]
     },
     "execution_count": 9,
     "metadata": {},
     "output_type": "execute_result"
    }
   ],
   "source": [
    "train_texts[:10] # Just checking the examples in train_text"
   ]
  },
  {
   "cell_type": "code",
   "execution_count": 9,
   "metadata": {
    "executionInfo": {
     "elapsed": 114,
     "status": "ok",
     "timestamp": 1646086427414,
     "user": {
      "displayName": "Eugene Choi",
      "photoUrl": "https://lh3.googleusercontent.com/a-/AOh14GhveIpPCLim-GOiHCISwC3mqviW1TdYtvymv0zbnw=s64",
      "userId": "01853983499846427113"
     },
     "user_tz": 300
    },
    "id": "ZnWpEMtwYg9f"
   },
   "outputs": [],
   "source": []
  },
  {
   "cell_type": "markdown",
   "metadata": {
    "id": "4Sm_iuR_hJp2"
   },
   "source": [
    "# Download and Load GloVe Embeddings\n",
    "We will use GloVe embedding parameters to initialize our layer of word representations / embedding layer.\n",
    "Let's download and load glove.\n",
    "\n",
    "\n",
    "This is related Lab 3 Deep Learning, please watch the recording and check the notebook for details.\n"
   ]
  },
  {
   "cell_type": "code",
   "execution_count": 10,
   "metadata": {
    "colab": {
     "base_uri": "https://localhost:8080/"
    },
    "executionInfo": {
     "elapsed": 10992,
     "status": "ok",
     "timestamp": 1646086439063,
     "user": {
      "displayName": "Eugene Choi",
      "photoUrl": "https://lh3.googleusercontent.com/a-/AOh14GhveIpPCLim-GOiHCISwC3mqviW1TdYtvymv0zbnw=s64",
      "userId": "01853983499846427113"
     },
     "user_tz": 300
    },
    "id": "HRCcCtcSjEPR",
    "outputId": "eda52ea1-e771-4dc5-a962-159efc2b558c"
   },
   "outputs": [
    {
     "name": "stdout",
     "output_type": "stream",
     "text": [
      "--2022-02-28 22:13:48--  https://docs.google.com/uc?id=1KMJTagaVD9hFHXFTPtNk0u2JjvNlyCAu\n",
      "Resolving docs.google.com (docs.google.com)... 74.125.124.139, 74.125.124.100, 74.125.124.102, ...\n",
      "Connecting to docs.google.com (docs.google.com)|74.125.124.139|:443... connected.\n",
      "HTTP request sent, awaiting response... 303 See Other\n",
      "Location: https://doc-0k-0g-docs.googleusercontent.com/docs/securesc/ha0ro937gcuc7l7deffksulhg5h7mbp1/j68eiddnsucqh5m2elsmmrt0skfrvbis/1646086425000/14514704803973256873/*/1KMJTagaVD9hFHXFTPtNk0u2JjvNlyCAu [following]\n",
      "Warning: wildcards not supported in HTTP.\n",
      "--2022-02-28 22:13:51--  https://doc-0k-0g-docs.googleusercontent.com/docs/securesc/ha0ro937gcuc7l7deffksulhg5h7mbp1/j68eiddnsucqh5m2elsmmrt0skfrvbis/1646086425000/14514704803973256873/*/1KMJTagaVD9hFHXFTPtNk0u2JjvNlyCAu\n",
      "Resolving doc-0k-0g-docs.googleusercontent.com (doc-0k-0g-docs.googleusercontent.com)... 173.194.193.132, 2607:f8b0:4001:c0f::84\n",
      "Connecting to doc-0k-0g-docs.googleusercontent.com (doc-0k-0g-docs.googleusercontent.com)|173.194.193.132|:443... connected.\n",
      "HTTP request sent, awaiting response... 200 OK\n",
      "Length: 52428800 (50M) [audio/audible]\n",
      "Saving to: ‘glove_split.aa’\n",
      "\n",
      "glove_split.aa      100%[===================>]  50.00M   127MB/s    in 0.4s    \n",
      "\n",
      "2022-02-28 22:13:52 (127 MB/s) - ‘glove_split.aa’ saved [52428800/52428800]\n",
      "\n",
      "--2022-02-28 22:13:52--  https://docs.google.com/uc?id=1LF2yD2jToXriyD-lsYA5hj03f7J3ZKaY\n",
      "Resolving docs.google.com (docs.google.com)... 74.125.124.139, 74.125.124.100, 74.125.124.102, ...\n",
      "Connecting to docs.google.com (docs.google.com)|74.125.124.139|:443... connected.\n",
      "HTTP request sent, awaiting response... 303 See Other\n",
      "Location: https://doc-08-0g-docs.googleusercontent.com/docs/securesc/ha0ro937gcuc7l7deffksulhg5h7mbp1/lioei1g018unum2cgg91obqm558v83vb/1646086425000/14514704803973256873/*/1LF2yD2jToXriyD-lsYA5hj03f7J3ZKaY [following]\n",
      "Warning: wildcards not supported in HTTP.\n",
      "--2022-02-28 22:13:56--  https://doc-08-0g-docs.googleusercontent.com/docs/securesc/ha0ro937gcuc7l7deffksulhg5h7mbp1/lioei1g018unum2cgg91obqm558v83vb/1646086425000/14514704803973256873/*/1LF2yD2jToXriyD-lsYA5hj03f7J3ZKaY\n",
      "Resolving doc-08-0g-docs.googleusercontent.com (doc-08-0g-docs.googleusercontent.com)... 173.194.193.132, 2607:f8b0:4001:c0f::84\n",
      "Connecting to doc-08-0g-docs.googleusercontent.com (doc-08-0g-docs.googleusercontent.com)|173.194.193.132|:443... connected.\n",
      "HTTP request sent, awaiting response... 200 OK\n",
      "Length: 52428800 (50M) [application/octet-stream]\n",
      "Saving to: ‘glove_split.ab’\n",
      "\n",
      "glove_split.ab      100%[===================>]  50.00M   157MB/s    in 0.3s    \n",
      "\n",
      "2022-02-28 22:13:56 (157 MB/s) - ‘glove_split.ab’ saved [52428800/52428800]\n",
      "\n",
      "--2022-02-28 22:13:56--  https://docs.google.com/uc?id=1N1xnxkRyM5Gar7sv4d41alyTL92Iip3f\n",
      "Resolving docs.google.com (docs.google.com)... 74.125.124.101, 74.125.124.139, 74.125.124.113, ...\n",
      "Connecting to docs.google.com (docs.google.com)|74.125.124.101|:443... connected.\n",
      "HTTP request sent, awaiting response... 303 See Other\n",
      "Location: https://doc-04-0g-docs.googleusercontent.com/docs/securesc/ha0ro937gcuc7l7deffksulhg5h7mbp1/emcvm30vo9on5f2dtg0e5ej59dld4co1/1646086425000/14514704803973256873/*/1N1xnxkRyM5Gar7sv4d41alyTL92Iip3f [following]\n",
      "Warning: wildcards not supported in HTTP.\n",
      "--2022-02-28 22:13:58--  https://doc-04-0g-docs.googleusercontent.com/docs/securesc/ha0ro937gcuc7l7deffksulhg5h7mbp1/emcvm30vo9on5f2dtg0e5ej59dld4co1/1646086425000/14514704803973256873/*/1N1xnxkRyM5Gar7sv4d41alyTL92Iip3f\n",
      "Resolving doc-04-0g-docs.googleusercontent.com (doc-04-0g-docs.googleusercontent.com)... 173.194.193.132, 2607:f8b0:4001:c0f::84\n",
      "Connecting to doc-04-0g-docs.googleusercontent.com (doc-04-0g-docs.googleusercontent.com)|173.194.193.132|:443... connected.\n",
      "HTTP request sent, awaiting response... 200 OK\n",
      "Length: 24629432 (23M) [application/octet-stream]\n",
      "Saving to: ‘glove_split.ac’\n",
      "\n",
      "glove_split.ac      100%[===================>]  23.49M  --.-KB/s    in 0.1s    \n",
      "\n",
      "2022-02-28 22:13:58 (164 MB/s) - ‘glove_split.ac’ saved [24629432/24629432]\n",
      "\n"
     ]
    }
   ],
   "source": [
    "#@title Download GloVe word embeddings\n",
    "\n",
    "# === Download GloVe word embeddings\n",
    "# !wget http://nlp.stanford.edu/data/glove.6B.zip\n",
    "\n",
    "# === Unzip word embeddings and use only the top 50000 word embeddings for speed\n",
    "# !unzip glove.6B.zip\n",
    "# !head -n 50000 glove.6B.300d.txt > glove.6B.300d__50k.txt\n",
    "\n",
    "# === Download Preprocessed version\n",
    "!wget https://docs.google.com/uc?id=1KMJTagaVD9hFHXFTPtNk0u2JjvNlyCAu -O glove_split.aa\n",
    "!wget https://docs.google.com/uc?id=1LF2yD2jToXriyD-lsYA5hj03f7J3ZKaY -O glove_split.ab\n",
    "!wget https://docs.google.com/uc?id=1N1xnxkRyM5Gar7sv4d41alyTL92Iip3f -O glove_split.ac\n",
    "!cat glove_split.?? > 'glove.6B.300d__50k.txt'"
   ]
  },
  {
   "cell_type": "markdown",
   "metadata": {
    "id": "4AfN4rYTOmCD"
   },
   "source": [
    "## Load GloVe Embeddings"
   ]
  },
  {
   "cell_type": "code",
   "execution_count": 11,
   "metadata": {
    "executionInfo": {
     "elapsed": 5803,
     "status": "ok",
     "timestamp": 1646086444975,
     "user": {
      "displayName": "Eugene Choi",
      "photoUrl": "https://lh3.googleusercontent.com/a-/AOh14GhveIpPCLim-GOiHCISwC3mqviW1TdYtvymv0zbnw=s64",
      "userId": "01853983499846427113"
     },
     "user_tz": 300
    },
    "id": "TSF0C4jHjnSz"
   },
   "outputs": [],
   "source": [
    "def load_glove(glove_path, embedding_dim):\n",
    "    with open(glove_path) as f:\n",
    "        token_ls = [PAD_TOKEN, UNK_TOKEN]\n",
    "        embedding_ls = [np.zeros(embedding_dim), np.random.rand(embedding_dim)]\n",
    "        for line in f:\n",
    "            token, raw_embedding = line.split(maxsplit=1)\n",
    "            token_ls.append(token)\n",
    "            embedding = np.array([float(x) for x in raw_embedding.split()])\n",
    "            embedding_ls.append(embedding)\n",
    "        embeddings = np.array(embedding_ls)\n",
    "    return token_ls, embeddings\n",
    "\n",
    "PAD_TOKEN = '<PAD>'\n",
    "UNK_TOKEN = '<UNK>'\n",
    "EMBEDDING_DIM=300 # dimension of Glove embeddings\n",
    "glove_path = \"glove.6B.300d__50k.txt\"\n",
    "vocab, embeddings = load_glove(glove_path, EMBEDDING_DIM)"
   ]
  },
  {
   "cell_type": "markdown",
   "metadata": {
    "id": "e_VZkGbgO4yA"
   },
   "source": [
    "## Import packages"
   ]
  },
  {
   "cell_type": "code",
   "execution_count": 12,
   "metadata": {
    "colab": {
     "base_uri": "https://localhost:8080/"
    },
    "executionInfo": {
     "elapsed": 3195,
     "status": "ok",
     "timestamp": 1646086448164,
     "user": {
      "displayName": "Eugene Choi",
      "photoUrl": "https://lh3.googleusercontent.com/a-/AOh14GhveIpPCLim-GOiHCISwC3mqviW1TdYtvymv0zbnw=s64",
      "userId": "01853983499846427113"
     },
     "user_tz": 300
    },
    "id": "FpbnKsQeptXw",
    "outputId": "5f3c8b82-6780-4253-b956-4905b5f45a81"
   },
   "outputs": [
    {
     "name": "stdout",
     "output_type": "stream",
     "text": [
      "Requirement already satisfied: sacremoses in /usr/local/lib/python3.7/dist-packages (0.0.47)\n",
      "Requirement already satisfied: six in /usr/local/lib/python3.7/dist-packages (from sacremoses) (1.15.0)\n",
      "Requirement already satisfied: tqdm in /usr/local/lib/python3.7/dist-packages (from sacremoses) (4.62.3)\n",
      "Requirement already satisfied: click in /usr/local/lib/python3.7/dist-packages (from sacremoses) (7.1.2)\n",
      "Requirement already satisfied: joblib in /usr/local/lib/python3.7/dist-packages (from sacremoses) (1.1.0)\n",
      "Requirement already satisfied: regex in /usr/local/lib/python3.7/dist-packages (from sacremoses) (2019.12.20)\n"
     ]
    }
   ],
   "source": [
    "!pip install sacremoses\n",
    "\n",
    "import torch\n",
    "import torch.nn as nn\n",
    "import torch.nn.functional as F\n",
    "import torch.optim as optim\n",
    "import numpy as np\n",
    "import os\n",
    "import pandas as pd\n",
    "import sacremoses\n",
    "from torch.utils.data import dataloader, Dataset\n",
    "from tqdm.auto import tqdm"
   ]
  },
  {
   "cell_type": "markdown",
   "metadata": {
    "id": "_Wwy3gSvO87p"
   },
   "source": [
    "# Tokenize text data.\n",
    "We will use the `tokenize` function to convert text data into sequence of indices."
   ]
  },
  {
   "cell_type": "code",
   "execution_count": 13,
   "metadata": {
    "colab": {
     "base_uri": "https://localhost:8080/",
     "height": 113,
     "referenced_widgets": [
      "49bffa17ca36422a8edd6d982374dfc1",
      "e92c2bac6504436092fee609aa03bae1",
      "1d02a7503d3f43a3b1eaab1901d78f4b",
      "3bc57e9d0d074e1db7f40ca285379817",
      "dd737f71b4184b5d9ca59838e9dcd5e4",
      "2b2dd12d338b45dea25ef6ad1253cf32",
      "bb581f5b4407432d8fdaa5328179ab7f",
      "e3c798a24f8240f68c6ac56ae80bc352",
      "dbbb6a7396db44258a914fe29aad3e94",
      "4c64ed9d39ba4e819a907d1c2491ba51",
      "8e6443240c8c430a98a80872cba07d7b",
      "0b05c6eebe194fbcbb83e2b35f1be15a",
      "cbdb1f5849e74b6aa6240fcc07218560",
      "0a0d3f5125e14c748ad1be1b8fa7d9d6",
      "0e43447a9bed4111beacffa7c89290f0",
      "1d641cc08c434e1f8df477206e4b62e6",
      "7af0b8904b454587b58e08ca8483502a",
      "31bd87032ffe4685bfab9016a2c3676b",
      "4dca35cfd994494bad995362a5c07a7e",
      "1037db18f2e045c28d707b9140f1573e",
      "3b0d81768a54499e85729ca1b282939d",
      "a9728186f99a4d55b7c52698ea0a1f19",
      "39649a931a91456398168f91afcd3f97",
      "92d10209cd98477f8d1256698f3410aa",
      "b03f80c8085b40c9bcada3c59539a741",
      "94068fc463d549229ebefb56870ade4d",
      "4e1314e9d7af42d8ad8e2e21ed5cfe2a",
      "f98ef68982474a00b717f9ecdbe75447",
      "a241dd8206614ad1859796dcb3a66ca8",
      "f869bbeec49548aa877ae5548b6ae6d4",
      "765a87ddf01248deb6079ac7bd3b59a7",
      "8cbac031d9c644e2b271e4380a63794d",
      "efae0869ccde405492f68a4671b196b8"
     ]
    },
    "executionInfo": {
     "elapsed": 3951,
     "status": "ok",
     "timestamp": 1646086452104,
     "user": {
      "displayName": "Eugene Choi",
      "photoUrl": "https://lh3.googleusercontent.com/a-/AOh14GhveIpPCLim-GOiHCISwC3mqviW1TdYtvymv0zbnw=s64",
      "userId": "01853983499846427113"
     },
     "user_tz": 300
    },
    "id": "j1aLbeOBmRyR",
    "outputId": "cdf52d38-c2f2-4bc2-b326-70771da5a5eb"
   },
   "outputs": [
    {
     "data": {
      "application/vnd.jupyter.widget-view+json": {
       "model_id": "49bffa17ca36422a8edd6d982374dfc1",
       "version_major": 2,
       "version_minor": 0
      },
      "text/plain": [
       "  0%|          | 0/3902 [00:00<?, ?it/s]"
      ]
     },
     "metadata": {},
     "output_type": "display_data"
    },
    {
     "data": {
      "application/vnd.jupyter.widget-view+json": {
       "model_id": "0b05c6eebe194fbcbb83e2b35f1be15a",
       "version_major": 2,
       "version_minor": 0
      },
      "text/plain": [
       "  0%|          | 0/835 [00:00<?, ?it/s]"
      ]
     },
     "metadata": {},
     "output_type": "display_data"
    },
    {
     "data": {
      "application/vnd.jupyter.widget-view+json": {
       "model_id": "39649a931a91456398168f91afcd3f97",
       "version_major": 2,
       "version_minor": 0
      },
      "text/plain": [
       "  0%|          | 0/835 [00:00<?, ?it/s]"
      ]
     },
     "metadata": {},
     "output_type": "display_data"
    }
   ],
   "source": [
    "def tokenize(data, labels, tokenizer, vocab, max_seq_length=128):\n",
    "    vocab_to_idx = {word: i for i, word in enumerate(vocab)}\n",
    "    text_data = []\n",
    "    label_data = []\n",
    "    for ex in tqdm(data):\n",
    "        tokenized = tokenizer.tokenize(ex.lower())\n",
    "        ids = [vocab_to_idx.get(token, 1) for token in tokenized]\n",
    "        text_data.append(ids)\n",
    "    return text_data, labels\n",
    "tokenizer = sacremoses.MosesTokenizer()\n",
    "train_data_indices, train_labels = tokenize(train_texts, train_labels, tokenizer, vocab)\n",
    "val_data_indices, val_labels = tokenize(val_texts, val_labels, tokenizer, vocab)\n",
    "test_data_indices, test_labels = tokenize(test_texts, test_labels, tokenizer, vocab)"
   ]
  },
  {
   "cell_type": "code",
   "execution_count": 14,
   "metadata": {
    "colab": {
     "base_uri": "https://localhost:8080/"
    },
    "executionInfo": {
     "elapsed": 5,
     "status": "ok",
     "timestamp": 1646086453241,
     "user": {
      "displayName": "Eugene Choi",
      "photoUrl": "https://lh3.googleusercontent.com/a-/AOh14GhveIpPCLim-GOiHCISwC3mqviW1TdYtvymv0zbnw=s64",
      "userId": "01853983499846427113"
     },
     "user_tz": 300
    },
    "id": "OEF48Bddt5kA",
    "outputId": "c96f84c0-cb65-4574-d459-4588c106d4c7"
   },
   "outputs": [
    {
     "name": "stdout",
     "output_type": "stream",
     "text": [
      "\n",
      "Train text first 5 examples:\n",
      " [[1098, 1, 129, 1, 99, 38, 224, 165, 411, 3332, 190], [16, 65, 132, 1007, 2498, 43, 88, 244, 6, 7, 1718, 10187, 2461, 7, 122, 644, 444, 190], [121, 6481, 255, 104, 43, 2597, 15, 394, 8322, 190], [43, 1, 83, 62, 65, 108], [1, 2, 823, 313, 40, 16, 584, 907, 12, 97, 190]]\n",
      "\n",
      "Train labels first 5 examples:\n",
      " [0, 0, 0, 0, 0]\n"
     ]
    }
   ],
   "source": [
    "print(\"\\nTrain text first 5 examples:\\n\", train_data_indices[:5])\n",
    "print(\"\\nTrain labels first 5 examples:\\n\", train_labels[:5])"
   ]
  },
  {
   "cell_type": "markdown",
   "metadata": {
    "id": "_dlUYNvgPUXs"
   },
   "source": [
    "# Create DataLoaders (25 pts)\n",
    " Now, let's create pytorch DataLoaders for our train, val, and test data.\n",
    "\n",
    " `SpamDataset` class is based on torch [`Dataset`](https://pytorch.org/docs/1.7.0/data.html?highlight=dataset#torch.utils.data.Dataset). It has an additional parameter called `self.max_sent_length` and a `spam_collate_func`.\n",
    "\n",
    "In order to use batch processing, all the examples need to effectively be the same length. We'll do this by adding padding tokens. `spam_collate_func` is supposed to dynamically pad or trim the sentences in the batch based on `self.max_sent_length` and the length of longest sequence in the batch. \n",
    "- If `self.max_sent_length` is greater than the length of longest sequence in the batch, use `self.max_sent_length`. Otherwise, use the length of longest sequence in the batch.\n",
    "- We do this because our input sentences in the batch may be much shorter than `self.max_sent_length`.  \n",
    "\n",
    "\n",
    "Example: \n",
    "\n",
    "* PAD token id = 0\n",
    "* max_sent_length = 5\n",
    "\n",
    "input list of sequences:\n",
    "```\n",
    "inp = [\n",
    "    [1,4,5,3,5,6,7,4,4],\n",
    "    [3,5,3,2],\n",
    "    [2,5,3,5,6,7,4],\n",
    "]\n",
    "```\n",
    "then padded minibatch looks like this:\n",
    "```\n",
    "padded_input = \n",
    "    [[1,4,5,3,5],\n",
    "     [3,5,3,2,0],\n",
    "     [2,5,3,5,6]]\n",
    "```"
   ]
  },
  {
   "cell_type": "code",
   "execution_count": 15,
   "metadata": {
    "executionInfo": {
     "elapsed": 137,
     "status": "ok",
     "timestamp": 1646086454802,
     "user": {
      "displayName": "Eugene Choi",
      "photoUrl": "https://lh3.googleusercontent.com/a-/AOh14GhveIpPCLim-GOiHCISwC3mqviW1TdYtvymv0zbnw=s64",
      "userId": "01853983499846427113"
     },
     "user_tz": 300
    },
    "id": "-uJDfnVMxBsz"
   },
   "outputs": [],
   "source": [
    "import numpy as np\n",
    "import torch\n",
    "from torch.utils.data import Dataset\n",
    "\n",
    "class SpamDataset(Dataset):\n",
    "    \"\"\"\n",
    "    Class that represents a train/validation/test dataset that's readable for PyTorch\n",
    "    Note that this class inherits torch.utils.data.Dataset\n",
    "    \"\"\"\n",
    "    \n",
    "    def __init__(self, data_list, target_list, max_sent_length=1280):\n",
    "        \"\"\"\n",
    "        @param data_list: list of data tokens \n",
    "        @param target_list: list of data targets \n",
    "\n",
    "        \"\"\"\n",
    "        self.data_list = data_list\n",
    "        self.target_list = target_list\n",
    "        self.max_sent_length = max_sent_length\n",
    "        assert (len(self.data_list) == len(self.target_list))\n",
    "\n",
    "    def __len__(self):\n",
    "        return len(self.data_list)\n",
    "        \n",
    "    def __getitem__(self, key, max_sent_length=None):\n",
    "        \"\"\"\n",
    "        Triggered when you call dataset[i]\n",
    "        \"\"\"\n",
    "        if max_sent_length is None:\n",
    "            max_sent_length = self.max_sent_length\n",
    "        token_idx = self.data_list[key][:max_sent_length]\n",
    "        label = self.target_list[key]\n",
    "        return [token_idx, label]\n",
    "\n",
    "    def spam_collate_func(self,batch):\n",
    "        \"\"\"\n",
    "        Customized function for DataLoader that dynamically pads the batch so that all \n",
    "        data have the same length\n",
    "        \"\"\" \n",
    "        data_list = [] # store padded sequences\n",
    "        label_list = []\n",
    "        max_batch_seq_len = None # the length of longest sequence in batch\n",
    "                                 # if it is less than self.max_sent_length\n",
    "                                 # else max_batch_seq_len = self.max_sent_length\n",
    "\n",
    "        \"\"\"\n",
    "          # Pad the sequences in your data \n",
    "          # if their length is less than max_batch_seq_len\n",
    "          # or trim the sequences that are longer than self.max_sent_length\n",
    "          # return padded data_list and label_list\n",
    "          1. TODO: Your code here \n",
    "        \"\"\"\n",
    "        label_list = [datum[1] for datum in batch]\n",
    "        max_batch_seq_len = max(len(datum[0]) for datum in batch)\n",
    "        if max_batch_seq_len > self.max_sent_length:\n",
    "            max_batch_seq_len = self.max_sent_length\n",
    "\n",
    "        for datum in batch:\n",
    "            padded_vec = np.pad(np.array(datum[0]), \n",
    "                                pad_width=((0,max_batch_seq_len-len(datum[0]))), \n",
    "                                mode=\"constant\", constant_values=0)\n",
    "            data_list.append(padded_vec)\n",
    "        data_list = torch.from_numpy(np.array(data_list))\n",
    "        label_list = torch.LongTensor(label_list)        \n",
    "\n",
    "        return [data_list, label_list]\n",
    "\n",
    "BATCH_SIZE = 64\n",
    "max_sent_length=128\n",
    "train_dataset = SpamDataset(train_data_indices, train_labels, max_sent_length)\n",
    "train_loader = torch.utils.data.DataLoader(dataset=train_dataset, \n",
    "                                           batch_size=BATCH_SIZE,\n",
    "                                           collate_fn=train_dataset.spam_collate_func,\n",
    "                                           shuffle=True)\n",
    "\n",
    "val_dataset = SpamDataset(val_data_indices, val_labels, train_dataset.max_sent_length)\n",
    "val_loader = torch.utils.data.DataLoader(dataset=val_dataset, \n",
    "                                           batch_size=BATCH_SIZE,\n",
    "                                           collate_fn=train_dataset.spam_collate_func,\n",
    "                                           shuffle=False)\n",
    "\n",
    "test_dataset = SpamDataset(test_data_indices, test_labels, train_dataset.max_sent_length)\n",
    "test_loader = torch.utils.data.DataLoader(dataset=test_dataset, \n",
    "                                           batch_size=BATCH_SIZE,\n",
    "                                           collate_fn=train_dataset.spam_collate_func,\n",
    "                                           shuffle=False)\n",
    "\n"
   ]
  },
  {
   "cell_type": "markdown",
   "metadata": {
    "id": "XWgRGaCWf4Zz"
   },
   "source": [
    "Let's try to print out an batch from train_loader.\n"
   ]
  },
  {
   "cell_type": "code",
   "execution_count": 16,
   "metadata": {
    "colab": {
     "base_uri": "https://localhost:8080/"
    },
    "executionInfo": {
     "elapsed": 229,
     "status": "ok",
     "timestamp": 1646086455892,
     "user": {
      "displayName": "Eugene Choi",
      "photoUrl": "https://lh3.googleusercontent.com/a-/AOh14GhveIpPCLim-GOiHCISwC3mqviW1TdYtvymv0zbnw=s64",
      "userId": "01853983499846427113"
     },
     "user_tz": 300
    },
    "id": "5O8R_KhwxULI",
    "outputId": "03d687ae-5f49-4c11-8e92-2495e1f9019a"
   },
   "outputs": [
    {
     "name": "stdout",
     "output_type": "stream",
     "text": [
      "data batch dimension:  torch.Size([64, 63])\n",
      "data_batch:  tensor([[ 5297,    15,   113,  ...,     0,     0,     0],\n",
      "        [    9,  1596,     5,  ...,     0,     0,     0],\n",
      "        [  157,    37,   194,  ...,     0,     0,     0],\n",
      "        ...,\n",
      "        [   43,     1,     1,  ...,     0,     0,     0],\n",
      "        [   43,    45, 22211,  ...,     0,     0,     0],\n",
      "        [  839,     2,     1,  ...,     0,     0,     0]])\n",
      "labels:  tensor([0, 0, 0, 0, 0, 0, 0, 0, 0, 0, 1, 0, 0, 0, 1, 0, 0, 0, 0, 0, 0, 0, 0, 0,\n",
      "        0, 0, 0, 0, 0, 0, 0, 0, 0, 0, 0, 1, 0, 0, 0, 1, 0, 1, 0, 0, 0, 1, 0, 0,\n",
      "        0, 0, 1, 0, 0, 0, 0, 0, 0, 0, 0, 0, 0, 0, 0, 0])\n"
     ]
    }
   ],
   "source": [
    "data_batch, labels = next(iter(train_loader))\n",
    "print(\"data batch dimension: \", data_batch.size())\n",
    "print(\"data_batch: \", data_batch)\n",
    "print(\"labels: \", labels)"
   ]
  },
  {
   "cell_type": "markdown",
   "metadata": {
    "id": "HpdnYbPIgNXw"
   },
   "source": [
    "# Build a BiLSTM Classifier (20 + 25 + 10 pts)\n",
    "\n",
    "Now we are going to build a BiLSTM classifier. Check this [blog post](https://colah.github.io/posts/2015-08-Understanding-LSTMs/) and [`torch.nn.LSTM`](https://pytorch.org/docs/stable/nn.html?highlight=lstm#torch.nn.LSTM) for reference.  \n",
    "\n",
    "The hyperparameters for LSTM are already given, but they are not necessarily optimal. You should get a good accuracy with these hyperparameters but you may try to tune the hyperparameters and use different hyperparameters to get better performance.\n",
    "\n",
    "* `__init__`: Class constructor. Here we define layers / parameters of LSTM.\n",
    "* `forward`: This function is used whenever you call your object as `model()`. It takes the input minibatch and returns the output representation from LSTM."
   ]
  },
  {
   "cell_type": "code",
   "execution_count": 17,
   "metadata": {
    "executionInfo": {
     "elapsed": 250,
     "status": "ok",
     "timestamp": 1646086457339,
     "user": {
      "displayName": "Eugene Choi",
      "photoUrl": "https://lh3.googleusercontent.com/a-/AOh14GhveIpPCLim-GOiHCISwC3mqviW1TdYtvymv0zbnw=s64",
      "userId": "01853983499846427113"
     },
     "user_tz": 300
    },
    "id": "GOYEmADNDVIh"
   },
   "outputs": [],
   "source": [
    "# First import torch related libraries\n",
    "import torch\n",
    "import torch.nn as nn\n",
    "import torch.nn.functional as F\n",
    "\n",
    "class LSTMClassifier(nn.Module):\n",
    "    \"\"\"\n",
    "    LSTMClassifier classification model\n",
    "    \"\"\"\n",
    "    def __init__(self, embeddings, hidden_size, num_layers, num_classes, bidirectional, dropout_prob=0.3):\n",
    "        super().__init__()\n",
    "        self.embedding_layer = self.load_pretrained_embeddings(embeddings)\n",
    "        self.dropout = None\n",
    "        self.lstm = None\n",
    "        self.non_linearity = None # For example, ReLU\n",
    "        self.clf = None # classifier layer\n",
    "        \"\"\"\n",
    "           define the components of your BiLSTM Classifier model\n",
    "           You may refer to Lab 3 Deep Learning for reference\n",
    "           2. TODO: Your code here\n",
    "        \"\"\"\n",
    "        self.hidden_size = hidden_size\n",
    "        self.num_layers = num_layers\n",
    "        self.dropout = nn.Dropout(p = dropout_prob)\n",
    "        self.lstm = nn.LSTM(embeddings.shape[1], hidden_size, num_layers, batch_first=True, \n",
    "                            bidirectional=True, dropout=0.3)\n",
    "        self.relu = nn.ReLU()\n",
    "        self.clf = nn.Linear(hidden_size*2, num_classes)\n",
    "    \n",
    "    def load_pretrained_embeddings(self, embeddings):\n",
    "        \"\"\"\n",
    "           The code for loading embeddings from Lab 3 Deep Learning\n",
    "           Unlike lab, we are not setting `embedding_layer.weight.requires_grad = False`\n",
    "           because we want to finetune the embeddings on our data\n",
    "        \"\"\"\n",
    "        embedding_layer = nn.Embedding(embeddings.shape[0], embeddings.shape[1], padding_idx=0)\n",
    "        embedding_layer.weight.data = torch.Tensor(embeddings).float()\n",
    "        return embedding_layer\n",
    "\n",
    "\n",
    "    def forward(self, inputs):\n",
    "        logits = None\n",
    "        \"\"\"\n",
    "           Write forward pass for LSTM\n",
    "           Example, forward:= embedding -> bilstm -> pooling (sum?mean?max?) \n",
    "                              nonlinearity -> classifier\n",
    "           Refer to: https://arxiv.org/abs/1705.02364 \n",
    "           Return logits\n",
    "           You may refer to Lab 3 for embedding lookup and how to return logits\n",
    "           3. TODO: Your code here\n",
    "        \"\"\"\n",
    "        batch_size = inputs.size()[0] # inputs : batch_sz, seq_len\n",
    "        out = self.dropout(self.embedding_layer(inputs))\n",
    "        out, _ = self.lstm(out, None)\n",
    "        out = out.mean(1)\n",
    "        out = self.relu(out)\n",
    "        #out = self.relu(torch.mean(out,1))\n",
    "        logits = self.clf(out)\n",
    "        return logits"
   ]
  },
  {
   "cell_type": "markdown",
   "metadata": {
    "id": "p6P7O47Lfr0a"
   },
   "source": [
    "First, we will define an evaluation function that will return the accuracy of the model. We will use this to compute validation accuracy and test accuracy of the model given a dataloader."
   ]
  },
  {
   "cell_type": "code",
   "execution_count": 18,
   "metadata": {
    "executionInfo": {
     "elapsed": 121,
     "status": "ok",
     "timestamp": 1646086458209,
     "user": {
      "displayName": "Eugene Choi",
      "photoUrl": "https://lh3.googleusercontent.com/a-/AOh14GhveIpPCLim-GOiHCISwC3mqviW1TdYtvymv0zbnw=s64",
      "userId": "01853983499846427113"
     },
     "user_tz": 300
    },
    "id": "dSkdBx1ULCFK"
   },
   "outputs": [],
   "source": [
    "def evaluate(model, dataloader, device):\n",
    "    accuracy = None\n",
    "    model.eval()\n",
    "    \"\"\"\n",
    "        4. TODO: Your code here\n",
    "        Calculate the accuracy of the model on the data in dataloader\n",
    "        You may refer to `run_inference` function from Lab 3 Deep Learning \n",
    "    \"\"\"\n",
    "    n_correct = n_total = 0 \n",
    "    model.eval()\n",
    "    with torch.no_grad():\n",
    "        \n",
    "        for (data_batch, batch_labels) in dataloader:\n",
    "            out = model(data_batch.to(device))\n",
    "            max_scores, preds = out.max(dim=1)\n",
    "            #preds = np.argmax(out, axis=1).cpu().numpy()\n",
    "            n_correct += np.sum(preds.cpu().numpy() == batch_labels.numpy())\n",
    "            n_total += out.shape[0]\n",
    "    accuracy = n_correct*1.0/n_total\n",
    "    return accuracy "
   ]
  },
  {
   "cell_type": "markdown",
   "metadata": {
    "id": "JpCXZCO7iuEL"
   },
   "source": [
    "# Initialize the BiLSTM classifier model, criterion and optimizer\n"
   ]
  },
  {
   "cell_type": "code",
   "execution_count": 19,
   "metadata": {
    "colab": {
     "base_uri": "https://localhost:8080/"
    },
    "executionInfo": {
     "elapsed": 12321,
     "status": "ok",
     "timestamp": 1646086471608,
     "user": {
      "displayName": "Eugene Choi",
      "photoUrl": "https://lh3.googleusercontent.com/a-/AOh14GhveIpPCLim-GOiHCISwC3mqviW1TdYtvymv0zbnw=s64",
      "userId": "01853983499846427113"
     },
     "user_tz": 300
    },
    "id": "YaPW_CjlK0F7",
    "outputId": "82ea8478-0aa8-437e-83ef-e7e17ea9dd70"
   },
   "outputs": [
    {
     "name": "stderr",
     "output_type": "stream",
     "text": [
      "/usr/local/lib/python3.7/dist-packages/torch/nn/modules/rnn.py:65: UserWarning: dropout option adds dropout after all but last recurrent layer, so non-zero dropout expects num_layers greater than 1, but got dropout=0.3 and num_layers=1\n",
      "  \"num_layers={}\".format(dropout, num_layers))\n"
     ]
    }
   ],
   "source": [
    "# BiLSTM hyperparameters\n",
    "hidden_size = 32\n",
    "num_layers = 1\n",
    "num_classes = 2\n",
    "bidirectional=True\n",
    "torch.manual_seed(1234)\n",
    "\n",
    "# if cuda exists, use cuda, else run on cpu\n",
    "if torch.cuda.is_available():\n",
    "    device = torch.device(\"cuda:0\")\n",
    "else:\n",
    "    device=torch.device('cpu')\n",
    "\n",
    "model = LSTMClassifier(embeddings, hidden_size, num_layers, num_classes, bidirectional)\n",
    "model.to(device)\n",
    "criterion = nn.CrossEntropyLoss()\n",
    "optimizer = optim.Adam(model.parameters(), lr=0.01)"
   ]
  },
  {
   "cell_type": "markdown",
   "metadata": {
    "id": "GwkHYzbQikT4"
   },
   "source": [
    "# Train model with early stopping (10 pts)\n",
    "\n",
    "Train the model for `NUM_EPOCHS`. \n",
    "Keep track of training loss.  \n",
    "Compute the validation accuracy after each epoch. Keep track of the best validation accuracy and save the model with the best validation accuracy.  \n",
    "\n",
    "If the validation accuracy does not improve for more than `early_stop_patience` number of epochs in a row, stop training. \n"
   ]
  },
  {
   "cell_type": "code",
   "execution_count": 20,
   "metadata": {
    "colab": {
     "base_uri": "https://localhost:8080/",
     "height": 223,
     "referenced_widgets": [
      "572c37d4d9c74c2aad84ae4148f67746",
      "bb35ff27cbe84c1eb1cb84e0eea9793c",
      "0060df0d40a64678a0b96abf9cfb01f1",
      "f422e3db00db43df80a89645847c5f80",
      "082cb54537c14b5fbdc6cc7e464d7833",
      "734f4aabe9654ea594d0c1f153ac904a",
      "f26644a7a13c4708b4f7f49d086ca1ed",
      "6b4624d18add4d958b9bdb83c890bd72",
      "3d67a36ff3a54072b587187e3a45c643",
      "16c13a4d707241c09f91312ea5bba085",
      "225d7e987cb94c46aa96cc4f4f2d004a"
     ]
    },
    "executionInfo": {
     "elapsed": 13568,
     "status": "ok",
     "timestamp": 1646086485156,
     "user": {
      "displayName": "Eugene Choi",
      "photoUrl": "https://lh3.googleusercontent.com/a-/AOh14GhveIpPCLim-GOiHCISwC3mqviW1TdYtvymv0zbnw=s64",
      "userId": "01853983499846427113"
     },
     "user_tz": 300
    },
    "id": "QOlop_TMOD9V",
    "outputId": "15527dd4-4331-4042-cb03-6f7c324a5845"
   },
   "outputs": [
    {
     "data": {
      "application/vnd.jupyter.widget-view+json": {
       "model_id": "572c37d4d9c74c2aad84ae4148f67746",
       "version_major": 2,
       "version_minor": 0
      },
      "text/plain": [
       "  0%|          | 0/10 [00:00<?, ?it/s]"
      ]
     },
     "metadata": {},
     "output_type": "display_data"
    },
    {
     "name": "stdout",
     "output_type": "stream",
     "text": [
      "epoch: 1, val_accuracy: 0.9820359281437125\n",
      "epoch: 2, val_accuracy: 0.9880239520958084\n",
      "epoch: 3, val_accuracy: 0.9880239520958084\n",
      "epoch: 4, val_accuracy: 0.9880239520958084\n",
      "epoch: 5, val_accuracy: 0.9916167664670659\n",
      "epoch: 6, val_accuracy: 0.9892215568862276\n",
      "epoch: 7, val_accuracy: 0.9892215568862276\n",
      "epoch: 8, val_accuracy: 0.9904191616766467\n",
      "Early stopped at epoch  7\n",
      "Best validation accuracy is:  0.9916167664670659\n"
     ]
    }
   ],
   "source": [
    "train_loss_history = []\n",
    "val_accuracy_history = []\n",
    "best_val_accuracy = 0\n",
    "n_no_improve = 0\n",
    "early_stop_patience=2\n",
    "NUM_EPOCHS=10\n",
    "  \n",
    "for epoch in tqdm(range(NUM_EPOCHS)):\n",
    "    model.train() # this enables regularization, which we don't currently have\n",
    "    for i, (data_batch, batch_labels) in enumerate(train_loader):\n",
    "        \"\"\"\n",
    "           Code for training lstm\n",
    "           Keep track of training of for each batch using train_loss_history\n",
    "        \"\"\"\n",
    "        preds = model(data_batch.to(device))\n",
    "        loss = criterion(preds, batch_labels.to(device))\n",
    "        loss.backward()\n",
    "        optimizer.step()\n",
    "        optimizer.zero_grad()\n",
    "        train_loss_history.append(loss.item())\n",
    "        \n",
    "    # The end of a training epoch \n",
    "\n",
    "    \"\"\"\n",
    "        Code for tracking best validation accuracy, saving the best model, and early stopping\n",
    "        # Compute validation accuracy after each training epoch using `evaluate` function\n",
    "        # Keep track of validation accuracy in `val_accuracy_history`\n",
    "        # save model with best validation accuracy, hint: torch.save(model, 'best_model.pt')\n",
    "        # Early stopping: \n",
    "        # stop training if the validation accuracy does not improve for more than `early_stop_patience` runs\n",
    "        5. TODO: Your code here\n",
    "    \"\"\"\n",
    "    cur_val_accuracy = evaluate(model, val_loader, device=device)\n",
    "    val_accuracy_history.append(cur_val_accuracy)\n",
    "    print(\"epoch: {}, val_accuracy: {}\".format(epoch+1, cur_val_accuracy))\n",
    "    if cur_val_accuracy > best_val_accuracy:\n",
    "        best_val_accuracy = cur_val_accuracy\n",
    "        torch.save(model, 'best_model.pt')\n",
    "        n_no_improve = 0\n",
    "    else:\n",
    "        n_no_improve += 1 \n",
    "    if n_no_improve > early_stop_patience:\n",
    "        print(\"Early stopped at epoch \",epoch)\n",
    "        break\n",
    "\n",
    "    \n",
    "\n",
    "print(\"Best validation accuracy is: \", best_val_accuracy)"
   ]
  },
  {
   "cell_type": "markdown",
   "metadata": {
    "id": "0hhFpkMHnT7Z"
   },
   "source": [
    "#Question: Why do we want to use early stopping? Write the most important reason in concise way. (10 pts)\n",
    "\n",
    "Your answer: Early stopping helps to prevent overfitting."
   ]
  },
  {
   "cell_type": "markdown",
   "metadata": {
    "id": "I58rTeMEg05M"
   },
   "source": [
    "# Draw training curve \n",
    "X-axis: training steps, Y-axis: training loss"
   ]
  },
  {
   "cell_type": "code",
   "execution_count": 21,
   "metadata": {
    "colab": {
     "base_uri": "https://localhost:8080/",
     "height": 282
    },
    "executionInfo": {
     "elapsed": 317,
     "status": "ok",
     "timestamp": 1646086485456,
     "user": {
      "displayName": "Eugene Choi",
      "photoUrl": "https://lh3.googleusercontent.com/a-/AOh14GhveIpPCLim-GOiHCISwC3mqviW1TdYtvymv0zbnw=s64",
      "userId": "01853983499846427113"
     },
     "user_tz": 300
    },
    "id": "KyalZo6tSXo_",
    "outputId": "ae69d1c3-1b7c-4c0b-f7de-f51774e22164"
   },
   "outputs": [
    {
     "data": {
      "text/plain": [
       "<matplotlib.axes._subplots.AxesSubplot at 0x7f7977f45150>"
      ]
     },
     "execution_count": 21,
     "metadata": {},
     "output_type": "execute_result"
    },
    {
     "data": {
      "image/png": "[encoded data removed]",
      "text/plain": [
       "<Figure size 432x288 with 1 Axes>"
      ]
     },
     "metadata": {
      "needs_background": "light"
     },
     "output_type": "display_data"
    }
   ],
   "source": [
    "pd.Series(train_loss_history).plot()"
   ]
  },
  {
   "cell_type": "markdown",
   "metadata": {
    "id": "oMiI_u4ggvQK"
   },
   "source": [
    "# Validation accuracy curve\n",
    "X-axis: Epochs, Y-axis: validation accuracy"
   ]
  },
  {
   "cell_type": "code",
   "execution_count": 22,
   "metadata": {
    "colab": {
     "base_uri": "https://localhost:8080/",
     "height": 284
    },
    "executionInfo": {
     "elapsed": 161,
     "status": "ok",
     "timestamp": 1646086485610,
     "user": {
      "displayName": "Eugene Choi",
      "photoUrl": "https://lh3.googleusercontent.com/a-/AOh14GhveIpPCLim-GOiHCISwC3mqviW1TdYtvymv0zbnw=s64",
      "userId": "01853983499846427113"
     },
     "user_tz": 300
    },
    "id": "Qt8iNjFwPVtc",
    "outputId": "7fb890b4-e441-4bca-c5dd-ed93dafefad0"
   },
   "outputs": [
    {
     "data": {
      "text/plain": [
       "<matplotlib.axes._subplots.AxesSubplot at 0x7f7977d70490>"
      ]
     },
     "execution_count": 22,
     "metadata": {},
     "output_type": "execute_result"
    },
    {
     "data": {
      "image/png": "[encoded data removed]",
      "text/plain": [
       "<Figure size 432x288 with 1 Axes>"
      ]
     },
     "metadata": {
      "needs_background": "light"
     },
     "output_type": "display_data"
    }
   ],
   "source": [
    "pd.Series(val_accuracy_history).plot()"
   ]
  },
  {
   "cell_type": "markdown",
   "metadata": {
    "id": "qqanG00Ggluj"
   },
   "source": [
    "## You should expect to get test accuracy >= 95."
   ]
  },
  {
   "cell_type": "code",
   "execution_count": 23,
   "metadata": {
    "colab": {
     "base_uri": "https://localhost:8080/"
    },
    "executionInfo": {
     "elapsed": 239,
     "status": "ok",
     "timestamp": 1646086485844,
     "user": {
      "displayName": "Eugene Choi",
      "photoUrl": "https://lh3.googleusercontent.com/a-/AOh14GhveIpPCLim-GOiHCISwC3mqviW1TdYtvymv0zbnw=s64",
      "userId": "01853983499846427113"
     },
     "user_tz": 300
    },
    "id": "cw6KtE2uSf1X",
    "outputId": "000f4f96-825d-493d-e296-d9c273b5ea28"
   },
   "outputs": [
    {
     "name": "stdout",
     "output_type": "stream",
     "text": [
      "0.9916167664670659\n"
     ]
    }
   ],
   "source": [
    "# Reload best model from saved checkpoint\n",
    "# Compute test accuracy\n",
    "model = torch.load('best_model.pt')\n",
    "test_accuracy = evaluate(model, test_loader, device)\n",
    "\n",
    "\n",
    "print(test_accuracy)"
   ]
  },
  {
   "cell_type": "code",
   "execution_count": null,
   "metadata": {
    "id": "NNGPrCnH-J02"
   },
   "outputs": [],
   "source": []
  }
 ],
 "metadata": {
  "accelerator": "GPU",
  "colab": {
   "collapsed_sections": [],
   "name": "HW2_Spam_Classification_with_LSTM_Solutions.ipynb",
   "provenance": []
  },
  "kernelspec": {
   "display_name": "Python 3 (ipykernel)",
   "language": "python",
   "name": "python3"
  },
  "language_info": {
   "codemirror_mode": {
    "name": "ipython",
    "version": 3
   },
   "file_extension": ".py",
   "mimetype": "text/x-python",
   "name": "python",
   "nbconvert_exporter": "python",
   "pygments_lexer": "ipython3",
   "version": "3.9.7"
  },
  "widgets": {
   "application/vnd.jupyter.widget-state+json": {
    "0060df0d40a64678a0b96abf9cfb01f1": {
     "model_module": "@jupyter-widgets/controls",
     "model_module_version": "1.5.0",
     "model_name": "HTMLModel",
     "state": {
      "_dom_classes": [],
      "_model_module": "@jupyter-widgets/controls",
      "_model_module_version": "1.5.0",
      "_model_name": "HTMLModel",
      "_view_count": null,
      "_view_module": "@jupyter-widgets/controls",
      "_view_module_version": "1.5.0",
      "_view_name": "HTMLView",
      "description": "",
      "description_tooltip": null,
      "layout": "IPY_MODEL_f26644a7a13c4708b4f7f49d086ca1ed",
      "placeholder": "​",
      "style": "IPY_MODEL_734f4aabe9654ea594d0c1f153ac904a",
      "value": " 70%"
     }
    },
    "082cb54537c14b5fbdc6cc7e464d7833": {
     "model_module": "@jupyter-widgets/controls",
     "model_module_version": "1.5.0",
     "model_name": "HTMLModel",
     "state": {
      "_dom_classes": [],
      "_model_module": "@jupyter-widgets/controls",
      "_model_module_version": "1.5.0",
      "_model_name": "HTMLModel",
      "_view_count": null,
      "_view_module": "@jupyter-widgets/controls",
      "_view_module_version": "1.5.0",
      "_view_name": "HTMLView",
      "description": "",
      "description_tooltip": null,
      "layout": "IPY_MODEL_225d7e987cb94c46aa96cc4f4f2d004a",
      "placeholder": "​",
      "style": "IPY_MODEL_16c13a4d707241c09f91312ea5bba085",
      "value": " 7/10 [00:13&lt;00:04,  1.65s/it]"
     }
    },
    "0a0d3f5125e14c748ad1be1b8fa7d9d6": {
     "model_module": "@jupyter-widgets/controls",
     "model_module_version": "1.5.0",
     "model_name": "HTMLModel",
     "state": {
      "_dom_classes": [],
      "_model_module": "@jupyter-widgets/controls",
      "_model_module_version": "1.5.0",
      "_model_name": "HTMLModel",
      "_view_count": null,
      "_view_module": "@jupyter-widgets/controls",
      "_view_module_version": "1.5.0",
      "_view_name": "HTMLView",
      "description": "",
      "description_tooltip": null,
      "layout": "IPY_MODEL_31bd87032ffe4685bfab9016a2c3676b",
      "placeholder": "​",
      "style": "IPY_MODEL_7af0b8904b454587b58e08ca8483502a",
      "value": "100%"
     }
    },
    "0b05c6eebe194fbcbb83e2b35f1be15a": {
     "model_module": "@jupyter-widgets/controls",
     "model_module_version": "1.5.0",
     "model_name": "HBoxModel",
     "state": {
      "_dom_classes": [],
      "_model_module": "@jupyter-widgets/controls",
      "_model_module_version": "1.5.0",
      "_model_name": "HBoxModel",
      "_view_count": null,
      "_view_module": "@jupyter-widgets/controls",
      "_view_module_version": "1.5.0",
      "_view_name": "HBoxView",
      "box_style": "",
      "children": [
       "IPY_MODEL_0a0d3f5125e14c748ad1be1b8fa7d9d6",
       "IPY_MODEL_0e43447a9bed4111beacffa7c89290f0",
       "IPY_MODEL_1d641cc08c434e1f8df477206e4b62e6"
      ],
      "layout": "IPY_MODEL_cbdb1f5849e74b6aa6240fcc07218560"
     }
    },
    "0e43447a9bed4111beacffa7c89290f0": {
     "model_module": "@jupyter-widgets/controls",
     "model_module_version": "1.5.0",
     "model_name": "FloatProgressModel",
     "state": {
      "_dom_classes": [],
      "_model_module": "@jupyter-widgets/controls",
      "_model_module_version": "1.5.0",
      "_model_name": "FloatProgressModel",
      "_view_count": null,
      "_view_module": "@jupyter-widgets/controls",
      "_view_module_version": "1.5.0",
      "_view_name": "ProgressView",
      "bar_style": "success",
      "description": "",
      "description_tooltip": null,
      "layout": "IPY_MODEL_1037db18f2e045c28d707b9140f1573e",
      "max": 835,
      "min": 0,
      "orientation": "horizontal",
      "style": "IPY_MODEL_4dca35cfd994494bad995362a5c07a7e",
      "value": 835
     }
    },
    "1037db18f2e045c28d707b9140f1573e": {
     "model_module": "@jupyter-widgets/base",
     "model_module_version": "1.2.0",
     "model_name": "LayoutModel",
     "state": {
      "_model_module": "@jupyter-widgets/base",
      "_model_module_version": "1.2.0",
      "_model_name": "LayoutModel",
      "_view_count": null,
      "_view_module": "@jupyter-widgets/base",
      "_view_module_version": "1.2.0",
      "_view_name": "LayoutView",
      "align_content": null,
      "align_items": null,
      "align_self": null,
      "border": null,
      "bottom": null,
      "display": null,
      "flex": null,
      "flex_flow": null,
      "grid_area": null,
      "grid_auto_columns": null,
      "grid_auto_flow": null,
      "grid_auto_rows": null,
      "grid_column": null,
      "grid_gap": null,
      "grid_row": null,
      "grid_template_areas": null,
      "grid_template_columns": null,
      "grid_template_rows": null,
      "height": null,
      "justify_content": null,
      "justify_items": null,
      "left": null,
      "margin": null,
      "max_height": null,
      "max_width": null,
      "min_height": null,
      "min_width": null,
      "object_fit": null,
      "object_position": null,
      "order": null,
      "overflow": null,
      "overflow_x": null,
      "overflow_y": null,
      "padding": null,
      "right": null,
      "top": null,
      "visibility": null,
      "width": null
     }
    },
    "16c13a4d707241c09f91312ea5bba085": {
     "model_module": "@jupyter-widgets/controls",
     "model_module_version": "1.5.0",
     "model_name": "DescriptionStyleModel",
     "state": {
      "_model_module": "@jupyter-widgets/controls",
      "_model_module_version": "1.5.0",
      "_model_name": "DescriptionStyleModel",
      "_view_count": null,
      "_view_module": "@jupyter-widgets/base",
      "_view_module_version": "1.2.0",
      "_view_name": "StyleView",
      "description_width": ""
     }
    },
    "1d02a7503d3f43a3b1eaab1901d78f4b": {
     "model_module": "@jupyter-widgets/controls",
     "model_module_version": "1.5.0",
     "model_name": "HTMLModel",
     "state": {
      "_dom_classes": [],
      "_model_module": "@jupyter-widgets/controls",
      "_model_module_version": "1.5.0",
      "_model_name": "HTMLModel",
      "_view_count": null,
      "_view_module": "@jupyter-widgets/controls",
      "_view_module_version": "1.5.0",
      "_view_name": "HTMLView",
      "description": "",
      "description_tooltip": null,
      "layout": "IPY_MODEL_bb581f5b4407432d8fdaa5328179ab7f",
      "placeholder": "​",
      "style": "IPY_MODEL_2b2dd12d338b45dea25ef6ad1253cf32",
      "value": "100%"
     }
    },
    "1d641cc08c434e1f8df477206e4b62e6": {
     "model_module": "@jupyter-widgets/controls",
     "model_module_version": "1.5.0",
     "model_name": "HTMLModel",
     "state": {
      "_dom_classes": [],
      "_model_module": "@jupyter-widgets/controls",
      "_model_module_version": "1.5.0",
      "_model_name": "HTMLModel",
      "_view_count": null,
      "_view_module": "@jupyter-widgets/controls",
      "_view_module_version": "1.5.0",
      "_view_name": "HTMLView",
      "description": "",
      "description_tooltip": null,
      "layout": "IPY_MODEL_a9728186f99a4d55b7c52698ea0a1f19",
      "placeholder": "​",
      "style": "IPY_MODEL_3b0d81768a54499e85729ca1b282939d",
      "value": " 835/835 [00:00&lt;00:00, 1180.30it/s]"
     }
    },
    "225d7e987cb94c46aa96cc4f4f2d004a": {
     "model_module": "@jupyter-widgets/base",
     "model_module_version": "1.2.0",
     "model_name": "LayoutModel",
     "state": {
      "_model_module": "@jupyter-widgets/base",
      "_model_module_version": "1.2.0",
      "_model_name": "LayoutModel",
      "_view_count": null,
      "_view_module": "@jupyter-widgets/base",
      "_view_module_version": "1.2.0",
      "_view_name": "LayoutView",
      "align_content": null,
      "align_items": null,
      "align_self": null,
      "border": null,
      "bottom": null,
      "display": null,
      "flex": null,
      "flex_flow": null,
      "grid_area": null,
      "grid_auto_columns": null,
      "grid_auto_flow": null,
      "grid_auto_rows": null,
      "grid_column": null,
      "grid_gap": null,
      "grid_row": null,
      "grid_template_areas": null,
      "grid_template_columns": null,
      "grid_template_rows": null,
      "height": null,
      "justify_content": null,
      "justify_items": null,
      "left": null,
      "margin": null,
      "max_height": null,
      "max_width": null,
      "min_height": null,
      "min_width": null,
      "object_fit": null,
      "object_position": null,
      "order": null,
      "overflow": null,
      "overflow_x": null,
      "overflow_y": null,
      "padding": null,
      "right": null,
      "top": null,
      "visibility": null,
      "width": null
     }
    },
    "2b2dd12d338b45dea25ef6ad1253cf32": {
     "model_module": "@jupyter-widgets/controls",
     "model_module_version": "1.5.0",
     "model_name": "DescriptionStyleModel",
     "state": {
      "_model_module": "@jupyter-widgets/controls",
      "_model_module_version": "1.5.0",
      "_model_name": "DescriptionStyleModel",
      "_view_count": null,
      "_view_module": "@jupyter-widgets/base",
      "_view_module_version": "1.2.0",
      "_view_name": "StyleView",
      "description_width": ""
     }
    },
    "31bd87032ffe4685bfab9016a2c3676b": {
     "model_module": "@jupyter-widgets/base",
     "model_module_version": "1.2.0",
     "model_name": "LayoutModel",
     "state": {
      "_model_module": "@jupyter-widgets/base",
      "_model_module_version": "1.2.0",
      "_model_name": "LayoutModel",
      "_view_count": null,
      "_view_module": "@jupyter-widgets/base",
      "_view_module_version": "1.2.0",
      "_view_name": "LayoutView",
      "align_content": null,
      "align_items": null,
      "align_self": null,
      "border": null,
      "bottom": null,
      "display": null,
      "flex": null,
      "flex_flow": null,
      "grid_area": null,
      "grid_auto_columns": null,
      "grid_auto_flow": null,
      "grid_auto_rows": null,
      "grid_column": null,
      "grid_gap": null,
      "grid_row": null,
      "grid_template_areas": null,
      "grid_template_columns": null,
      "grid_template_rows": null,
      "height": null,
      "justify_content": null,
      "justify_items": null,
      "left": null,
      "margin": null,
      "max_height": null,
      "max_width": null,
      "min_height": null,
      "min_width": null,
      "object_fit": null,
      "object_position": null,
      "order": null,
      "overflow": null,
      "overflow_x": null,
      "overflow_y": null,
      "padding": null,
      "right": null,
      "top": null,
      "visibility": null,
      "width": null
     }
    },
    "39649a931a91456398168f91afcd3f97": {
     "model_module": "@jupyter-widgets/controls",
     "model_module_version": "1.5.0",
     "model_name": "HBoxModel",
     "state": {
      "_dom_classes": [],
      "_model_module": "@jupyter-widgets/controls",
      "_model_module_version": "1.5.0",
      "_model_name": "HBoxModel",
      "_view_count": null,
      "_view_module": "@jupyter-widgets/controls",
      "_view_module_version": "1.5.0",
      "_view_name": "HBoxView",
      "box_style": "",
      "children": [
       "IPY_MODEL_b03f80c8085b40c9bcada3c59539a741",
       "IPY_MODEL_94068fc463d549229ebefb56870ade4d",
       "IPY_MODEL_4e1314e9d7af42d8ad8e2e21ed5cfe2a"
      ],
      "layout": "IPY_MODEL_92d10209cd98477f8d1256698f3410aa"
     }
    },
    "3b0d81768a54499e85729ca1b282939d": {
     "model_module": "@jupyter-widgets/controls",
     "model_module_version": "1.5.0",
     "model_name": "DescriptionStyleModel",
     "state": {
      "_model_module": "@jupyter-widgets/controls",
      "_model_module_version": "1.5.0",
      "_model_name": "DescriptionStyleModel",
      "_view_count": null,
      "_view_module": "@jupyter-widgets/base",
      "_view_module_version": "1.2.0",
      "_view_name": "StyleView",
      "description_width": ""
     }
    },
    "3bc57e9d0d074e1db7f40ca285379817": {
     "model_module": "@jupyter-widgets/controls",
     "model_module_version": "1.5.0",
     "model_name": "FloatProgressModel",
     "state": {
      "_dom_classes": [],
      "_model_module": "@jupyter-widgets/controls",
      "_model_module_version": "1.5.0",
      "_model_name": "FloatProgressModel",
      "_view_count": null,
      "_view_module": "@jupyter-widgets/controls",
      "_view_module_version": "1.5.0",
      "_view_name": "ProgressView",
      "bar_style": "success",
      "description": "",
      "description_tooltip": null,
      "layout": "IPY_MODEL_dbbb6a7396db44258a914fe29aad3e94",
      "max": 3902,
      "min": 0,
      "orientation": "horizontal",
      "style": "IPY_MODEL_e3c798a24f8240f68c6ac56ae80bc352",
      "value": 3902
     }
    },
    "3d67a36ff3a54072b587187e3a45c643": {
     "model_module": "@jupyter-widgets/base",
     "model_module_version": "1.2.0",
     "model_name": "LayoutModel",
     "state": {
      "_model_module": "@jupyter-widgets/base",
      "_model_module_version": "1.2.0",
      "_model_name": "LayoutModel",
      "_view_count": null,
      "_view_module": "@jupyter-widgets/base",
      "_view_module_version": "1.2.0",
      "_view_name": "LayoutView",
      "align_content": null,
      "align_items": null,
      "align_self": null,
      "border": null,
      "bottom": null,
      "display": null,
      "flex": null,
      "flex_flow": null,
      "grid_area": null,
      "grid_auto_columns": null,
      "grid_auto_flow": null,
      "grid_auto_rows": null,
      "grid_column": null,
      "grid_gap": null,
      "grid_row": null,
      "grid_template_areas": null,
      "grid_template_columns": null,
      "grid_template_rows": null,
      "height": null,
      "justify_content": null,
      "justify_items": null,
      "left": null,
      "margin": null,
      "max_height": null,
      "max_width": null,
      "min_height": null,
      "min_width": null,
      "object_fit": null,
      "object_position": null,
      "order": null,
      "overflow": null,
      "overflow_x": null,
      "overflow_y": null,
      "padding": null,
      "right": null,
      "top": null,
      "visibility": null,
      "width": null
     }
    },
    "49bffa17ca36422a8edd6d982374dfc1": {
     "model_module": "@jupyter-widgets/controls",
     "model_module_version": "1.5.0",
     "model_name": "HBoxModel",
     "state": {
      "_dom_classes": [],
      "_model_module": "@jupyter-widgets/controls",
      "_model_module_version": "1.5.0",
      "_model_name": "HBoxModel",
      "_view_count": null,
      "_view_module": "@jupyter-widgets/controls",
      "_view_module_version": "1.5.0",
      "_view_name": "HBoxView",
      "box_style": "",
      "children": [
       "IPY_MODEL_1d02a7503d3f43a3b1eaab1901d78f4b",
       "IPY_MODEL_3bc57e9d0d074e1db7f40ca285379817",
       "IPY_MODEL_dd737f71b4184b5d9ca59838e9dcd5e4"
      ],
      "layout": "IPY_MODEL_e92c2bac6504436092fee609aa03bae1"
     }
    },
    "4c64ed9d39ba4e819a907d1c2491ba51": {
     "model_module": "@jupyter-widgets/controls",
     "model_module_version": "1.5.0",
     "model_name": "DescriptionStyleModel",
     "state": {
      "_model_module": "@jupyter-widgets/controls",
      "_model_module_version": "1.5.0",
      "_model_name": "DescriptionStyleModel",
      "_view_count": null,
      "_view_module": "@jupyter-widgets/base",
      "_view_module_version": "1.2.0",
      "_view_name": "StyleView",
      "description_width": ""
     }
    },
    "4dca35cfd994494bad995362a5c07a7e": {
     "model_module": "@jupyter-widgets/controls",
     "model_module_version": "1.5.0",
     "model_name": "ProgressStyleModel",
     "state": {
      "_model_module": "@jupyter-widgets/controls",
      "_model_module_version": "1.5.0",
      "_model_name": "ProgressStyleModel",
      "_view_count": null,
      "_view_module": "@jupyter-widgets/base",
      "_view_module_version": "1.2.0",
      "_view_name": "StyleView",
      "bar_color": null,
      "description_width": ""
     }
    },
    "4e1314e9d7af42d8ad8e2e21ed5cfe2a": {
     "model_module": "@jupyter-widgets/controls",
     "model_module_version": "1.5.0",
     "model_name": "HTMLModel",
     "state": {
      "_dom_classes": [],
      "_model_module": "@jupyter-widgets/controls",
      "_model_module_version": "1.5.0",
      "_model_name": "HTMLModel",
      "_view_count": null,
      "_view_module": "@jupyter-widgets/controls",
      "_view_module_version": "1.5.0",
      "_view_name": "HTMLView",
      "description": "",
      "description_tooltip": null,
      "layout": "IPY_MODEL_efae0869ccde405492f68a4671b196b8",
      "placeholder": "​",
      "style": "IPY_MODEL_8cbac031d9c644e2b271e4380a63794d",
      "value": " 835/835 [00:00&lt;00:00, 1183.93it/s]"
     }
    },
    "572c37d4d9c74c2aad84ae4148f67746": {
     "model_module": "@jupyter-widgets/controls",
     "model_module_version": "1.5.0",
     "model_name": "HBoxModel",
     "state": {
      "_dom_classes": [],
      "_model_module": "@jupyter-widgets/controls",
      "_model_module_version": "1.5.0",
      "_model_name": "HBoxModel",
      "_view_count": null,
      "_view_module": "@jupyter-widgets/controls",
      "_view_module_version": "1.5.0",
      "_view_name": "HBoxView",
      "box_style": "",
      "children": [
       "IPY_MODEL_0060df0d40a64678a0b96abf9cfb01f1",
       "IPY_MODEL_f422e3db00db43df80a89645847c5f80",
       "IPY_MODEL_082cb54537c14b5fbdc6cc7e464d7833"
      ],
      "layout": "IPY_MODEL_bb35ff27cbe84c1eb1cb84e0eea9793c"
     }
    },
    "6b4624d18add4d958b9bdb83c890bd72": {
     "model_module": "@jupyter-widgets/controls",
     "model_module_version": "1.5.0",
     "model_name": "ProgressStyleModel",
     "state": {
      "_model_module": "@jupyter-widgets/controls",
      "_model_module_version": "1.5.0",
      "_model_name": "ProgressStyleModel",
      "_view_count": null,
      "_view_module": "@jupyter-widgets/base",
      "_view_module_version": "1.2.0",
      "_view_name": "StyleView",
      "bar_color": null,
      "description_width": ""
     }
    },
    "734f4aabe9654ea594d0c1f153ac904a": {
     "model_module": "@jupyter-widgets/controls",
     "model_module_version": "1.5.0",
     "model_name": "DescriptionStyleModel",
     "state": {
      "_model_module": "@jupyter-widgets/controls",
      "_model_module_version": "1.5.0",
      "_model_name": "DescriptionStyleModel",
      "_view_count": null,
      "_view_module": "@jupyter-widgets/base",
      "_view_module_version": "1.2.0",
      "_view_name": "StyleView",
      "description_width": ""
     }
    },
    "765a87ddf01248deb6079ac7bd3b59a7": {
     "model_module": "@jupyter-widgets/base",
     "model_module_version": "1.2.0",
     "model_name": "LayoutModel",
     "state": {
      "_model_module": "@jupyter-widgets/base",
      "_model_module_version": "1.2.0",
      "_model_name": "LayoutModel",
      "_view_count": null,
      "_view_module": "@jupyter-widgets/base",
      "_view_module_version": "1.2.0",
      "_view_name": "LayoutView",
      "align_content": null,
      "align_items": null,
      "align_self": null,
      "border": null,
      "bottom": null,
      "display": null,
      "flex": null,
      "flex_flow": null,
      "grid_area": null,
      "grid_auto_columns": null,
      "grid_auto_flow": null,
      "grid_auto_rows": null,
      "grid_column": null,
      "grid_gap": null,
      "grid_row": null,
      "grid_template_areas": null,
      "grid_template_columns": null,
      "grid_template_rows": null,
      "height": null,
      "justify_content": null,
      "justify_items": null,
      "left": null,
      "margin": null,
      "max_height": null,
      "max_width": null,
      "min_height": null,
      "min_width": null,
      "object_fit": null,
      "object_position": null,
      "order": null,
      "overflow": null,
      "overflow_x": null,
      "overflow_y": null,
      "padding": null,
      "right": null,
      "top": null,
      "visibility": null,
      "width": null
     }
    },
    "7af0b8904b454587b58e08ca8483502a": {
     "model_module": "@jupyter-widgets/controls",
     "model_module_version": "1.5.0",
     "model_name": "DescriptionStyleModel",
     "state": {
      "_model_module": "@jupyter-widgets/controls",
      "_model_module_version": "1.5.0",
      "_model_name": "DescriptionStyleModel",
      "_view_count": null,
      "_view_module": "@jupyter-widgets/base",
      "_view_module_version": "1.2.0",
      "_view_name": "StyleView",
      "description_width": ""
     }
    },
    "8cbac031d9c644e2b271e4380a63794d": {
     "model_module": "@jupyter-widgets/controls",
     "model_module_version": "1.5.0",
     "model_name": "DescriptionStyleModel",
     "state": {
      "_model_module": "@jupyter-widgets/controls",
      "_model_module_version": "1.5.0",
      "_model_name": "DescriptionStyleModel",
      "_view_count": null,
      "_view_module": "@jupyter-widgets/base",
      "_view_module_version": "1.2.0",
      "_view_name": "StyleView",
      "description_width": ""
     }
    },
    "8e6443240c8c430a98a80872cba07d7b": {
     "model_module": "@jupyter-widgets/base",
     "model_module_version": "1.2.0",
     "model_name": "LayoutModel",
     "state": {
      "_model_module": "@jupyter-widgets/base",
      "_model_module_version": "1.2.0",
      "_model_name": "LayoutModel",
      "_view_count": null,
      "_view_module": "@jupyter-widgets/base",
      "_view_module_version": "1.2.0",
      "_view_name": "LayoutView",
      "align_content": null,
      "align_items": null,
      "align_self": null,
      "border": null,
      "bottom": null,
      "display": null,
      "flex": null,
      "flex_flow": null,
      "grid_area": null,
      "grid_auto_columns": null,
      "grid_auto_flow": null,
      "grid_auto_rows": null,
      "grid_column": null,
      "grid_gap": null,
      "grid_row": null,
      "grid_template_areas": null,
      "grid_template_columns": null,
      "grid_template_rows": null,
      "height": null,
      "justify_content": null,
      "justify_items": null,
      "left": null,
      "margin": null,
      "max_height": null,
      "max_width": null,
      "min_height": null,
      "min_width": null,
      "object_fit": null,
      "object_position": null,
      "order": null,
      "overflow": null,
      "overflow_x": null,
      "overflow_y": null,
      "padding": null,
      "right": null,
      "top": null,
      "visibility": null,
      "width": null
     }
    },
    "92d10209cd98477f8d1256698f3410aa": {
     "model_module": "@jupyter-widgets/base",
     "model_module_version": "1.2.0",
     "model_name": "LayoutModel",
     "state": {
      "_model_module": "@jupyter-widgets/base",
      "_model_module_version": "1.2.0",
      "_model_name": "LayoutModel",
      "_view_count": null,
      "_view_module": "@jupyter-widgets/base",
      "_view_module_version": "1.2.0",
      "_view_name": "LayoutView",
      "align_content": null,
      "align_items": null,
      "align_self": null,
      "border": null,
      "bottom": null,
      "display": null,
      "flex": null,
      "flex_flow": null,
      "grid_area": null,
      "grid_auto_columns": null,
      "grid_auto_flow": null,
      "grid_auto_rows": null,
      "grid_column": null,
      "grid_gap": null,
      "grid_row": null,
      "grid_template_areas": null,
      "grid_template_columns": null,
      "grid_template_rows": null,
      "height": null,
      "justify_content": null,
      "justify_items": null,
      "left": null,
      "margin": null,
      "max_height": null,
      "max_width": null,
      "min_height": null,
      "min_width": null,
      "object_fit": null,
      "object_position": null,
      "order": null,
      "overflow": null,
      "overflow_x": null,
      "overflow_y": null,
      "padding": null,
      "right": null,
      "top": null,
      "visibility": null,
      "width": null
     }
    },
    "94068fc463d549229ebefb56870ade4d": {
     "model_module": "@jupyter-widgets/controls",
     "model_module_version": "1.5.0",
     "model_name": "FloatProgressModel",
     "state": {
      "_dom_classes": [],
      "_model_module": "@jupyter-widgets/controls",
      "_model_module_version": "1.5.0",
      "_model_name": "FloatProgressModel",
      "_view_count": null,
      "_view_module": "@jupyter-widgets/controls",
      "_view_module_version": "1.5.0",
      "_view_name": "ProgressView",
      "bar_style": "success",
      "description": "",
      "description_tooltip": null,
      "layout": "IPY_MODEL_765a87ddf01248deb6079ac7bd3b59a7",
      "max": 835,
      "min": 0,
      "orientation": "horizontal",
      "style": "IPY_MODEL_f869bbeec49548aa877ae5548b6ae6d4",
      "value": 835
     }
    },
    "a241dd8206614ad1859796dcb3a66ca8": {
     "model_module": "@jupyter-widgets/base",
     "model_module_version": "1.2.0",
     "model_name": "LayoutModel",
     "state": {
      "_model_module": "@jupyter-widgets/base",
      "_model_module_version": "1.2.0",
      "_model_name": "LayoutModel",
      "_view_count": null,
      "_view_module": "@jupyter-widgets/base",
      "_view_module_version": "1.2.0",
      "_view_name": "LayoutView",
      "align_content": null,
      "align_items": null,
      "align_self": null,
      "border": null,
      "bottom": null,
      "display": null,
      "flex": null,
      "flex_flow": null,
      "grid_area": null,
      "grid_auto_columns": null,
      "grid_auto_flow": null,
      "grid_auto_rows": null,
      "grid_column": null,
      "grid_gap": null,
      "grid_row": null,
      "grid_template_areas": null,
      "grid_template_columns": null,
      "grid_template_rows": null,
      "height": null,
      "justify_content": null,
      "justify_items": null,
      "left": null,
      "margin": null,
      "max_height": null,
      "max_width": null,
      "min_height": null,
      "min_width": null,
      "object_fit": null,
      "object_position": null,
      "order": null,
      "overflow": null,
      "overflow_x": null,
      "overflow_y": null,
      "padding": null,
      "right": null,
      "top": null,
      "visibility": null,
      "width": null
     }
    },
    "a9728186f99a4d55b7c52698ea0a1f19": {
     "model_module": "@jupyter-widgets/base",
     "model_module_version": "1.2.0",
     "model_name": "LayoutModel",
     "state": {
      "_model_module": "@jupyter-widgets/base",
      "_model_module_version": "1.2.0",
      "_model_name": "LayoutModel",
      "_view_count": null,
      "_view_module": "@jupyter-widgets/base",
      "_view_module_version": "1.2.0",
      "_view_name": "LayoutView",
      "align_content": null,
      "align_items": null,
      "align_self": null,
      "border": null,
      "bottom": null,
      "display": null,
      "flex": null,
      "flex_flow": null,
      "grid_area": null,
      "grid_auto_columns": null,
      "grid_auto_flow": null,
      "grid_auto_rows": null,
      "grid_column": null,
      "grid_gap": null,
      "grid_row": null,
      "grid_template_areas": null,
      "grid_template_columns": null,
      "grid_template_rows": null,
      "height": null,
      "justify_content": null,
      "justify_items": null,
      "left": null,
      "margin": null,
      "max_height": null,
      "max_width": null,
      "min_height": null,
      "min_width": null,
      "object_fit": null,
      "object_position": null,
      "order": null,
      "overflow": null,
      "overflow_x": null,
      "overflow_y": null,
      "padding": null,
      "right": null,
      "top": null,
      "visibility": null,
      "width": null
     }
    },
    "b03f80c8085b40c9bcada3c59539a741": {
     "model_module": "@jupyter-widgets/controls",
     "model_module_version": "1.5.0",
     "model_name": "HTMLModel",
     "state": {
      "_dom_classes": [],
      "_model_module": "@jupyter-widgets/controls",
      "_model_module_version": "1.5.0",
      "_model_name": "HTMLModel",
      "_view_count": null,
      "_view_module": "@jupyter-widgets/controls",
      "_view_module_version": "1.5.0",
      "_view_name": "HTMLView",
      "description": "",
      "description_tooltip": null,
      "layout": "IPY_MODEL_a241dd8206614ad1859796dcb3a66ca8",
      "placeholder": "​",
      "style": "IPY_MODEL_f98ef68982474a00b717f9ecdbe75447",
      "value": "100%"
     }
    },
    "bb35ff27cbe84c1eb1cb84e0eea9793c": {
     "model_module": "@jupyter-widgets/base",
     "model_module_version": "1.2.0",
     "model_name": "LayoutModel",
     "state": {
      "_model_module": "@jupyter-widgets/base",
      "_model_module_version": "1.2.0",
      "_model_name": "LayoutModel",
      "_view_count": null,
      "_view_module": "@jupyter-widgets/base",
      "_view_module_version": "1.2.0",
      "_view_name": "LayoutView",
      "align_content": null,
      "align_items": null,
      "align_self": null,
      "border": null,
      "bottom": null,
      "display": null,
      "flex": null,
      "flex_flow": null,
      "grid_area": null,
      "grid_auto_columns": null,
      "grid_auto_flow": null,
      "grid_auto_rows": null,
      "grid_column": null,
      "grid_gap": null,
      "grid_row": null,
      "grid_template_areas": null,
      "grid_template_columns": null,
      "grid_template_rows": null,
      "height": null,
      "justify_content": null,
      "justify_items": null,
      "left": null,
      "margin": null,
      "max_height": null,
      "max_width": null,
      "min_height": null,
      "min_width": null,
      "object_fit": null,
      "object_position": null,
      "order": null,
      "overflow": null,
      "overflow_x": null,
      "overflow_y": null,
      "padding": null,
      "right": null,
      "top": null,
      "visibility": null,
      "width": null
     }
    },
    "bb581f5b4407432d8fdaa5328179ab7f": {
     "model_module": "@jupyter-widgets/base",
     "model_module_version": "1.2.0",
     "model_name": "LayoutModel",
     "state": {
      "_model_module": "@jupyter-widgets/base",
      "_model_module_version": "1.2.0",
      "_model_name": "LayoutModel",
      "_view_count": null,
      "_view_module": "@jupyter-widgets/base",
      "_view_module_version": "1.2.0",
      "_view_name": "LayoutView",
      "align_content": null,
      "align_items": null,
      "align_self": null,
      "border": null,
      "bottom": null,
      "display": null,
      "flex": null,
      "flex_flow": null,
      "grid_area": null,
      "grid_auto_columns": null,
      "grid_auto_flow": null,
      "grid_auto_rows": null,
      "grid_column": null,
      "grid_gap": null,
      "grid_row": null,
      "grid_template_areas": null,
      "grid_template_columns": null,
      "grid_template_rows": null,
      "height": null,
      "justify_content": null,
      "justify_items": null,
      "left": null,
      "margin": null,
      "max_height": null,
      "max_width": null,
      "min_height": null,
      "min_width": null,
      "object_fit": null,
      "object_position": null,
      "order": null,
      "overflow": null,
      "overflow_x": null,
      "overflow_y": null,
      "padding": null,
      "right": null,
      "top": null,
      "visibility": null,
      "width": null
     }
    },
    "cbdb1f5849e74b6aa6240fcc07218560": {
     "model_module": "@jupyter-widgets/base",
     "model_module_version": "1.2.0",
     "model_name": "LayoutModel",
     "state": {
      "_model_module": "@jupyter-widgets/base",
      "_model_module_version": "1.2.0",
      "_model_name": "LayoutModel",
      "_view_count": null,
      "_view_module": "@jupyter-widgets/base",
      "_view_module_version": "1.2.0",
      "_view_name": "LayoutView",
      "align_content": null,
      "align_items": null,
      "align_self": null,
      "border": null,
      "bottom": null,
      "display": null,
      "flex": null,
      "flex_flow": null,
      "grid_area": null,
      "grid_auto_columns": null,
      "grid_auto_flow": null,
      "grid_auto_rows": null,
      "grid_column": null,
      "grid_gap": null,
      "grid_row": null,
      "grid_template_areas": null,
      "grid_template_columns": null,
      "grid_template_rows": null,
      "height": null,
      "justify_content": null,
      "justify_items": null,
      "left": null,
      "margin": null,
      "max_height": null,
      "max_width": null,
      "min_height": null,
      "min_width": null,
      "object_fit": null,
      "object_position": null,
      "order": null,
      "overflow": null,
      "overflow_x": null,
      "overflow_y": null,
      "padding": null,
      "right": null,
      "top": null,
      "visibility": null,
      "width": null
     }
    },
    "dbbb6a7396db44258a914fe29aad3e94": {
     "model_module": "@jupyter-widgets/base",
     "model_module_version": "1.2.0",
     "model_name": "LayoutModel",
     "state": {
      "_model_module": "@jupyter-widgets/base",
      "_model_module_version": "1.2.0",
      "_model_name": "LayoutModel",
      "_view_count": null,
      "_view_module": "@jupyter-widgets/base",
      "_view_module_version": "1.2.0",
      "_view_name": "LayoutView",
      "align_content": null,
      "align_items": null,
      "align_self": null,
      "border": null,
      "bottom": null,
      "display": null,
      "flex": null,
      "flex_flow": null,
      "grid_area": null,
      "grid_auto_columns": null,
      "grid_auto_flow": null,
      "grid_auto_rows": null,
      "grid_column": null,
      "grid_gap": null,
      "grid_row": null,
      "grid_template_areas": null,
      "grid_template_columns": null,
      "grid_template_rows": null,
      "height": null,
      "justify_content": null,
      "justify_items": null,
      "left": null,
      "margin": null,
      "max_height": null,
      "max_width": null,
      "min_height": null,
      "min_width": null,
      "object_fit": null,
      "object_position": null,
      "order": null,
      "overflow": null,
      "overflow_x": null,
      "overflow_y": null,
      "padding": null,
      "right": null,
      "top": null,
      "visibility": null,
      "width": null
     }
    },
    "dd737f71b4184b5d9ca59838e9dcd5e4": {
     "model_module": "@jupyter-widgets/controls",
     "model_module_version": "1.5.0",
     "model_name": "HTMLModel",
     "state": {
      "_dom_classes": [],
      "_model_module": "@jupyter-widgets/controls",
      "_model_module_version": "1.5.0",
      "_model_name": "HTMLModel",
      "_view_count": null,
      "_view_module": "@jupyter-widgets/controls",
      "_view_module_version": "1.5.0",
      "_view_name": "HTMLView",
      "description": "",
      "description_tooltip": null,
      "layout": "IPY_MODEL_8e6443240c8c430a98a80872cba07d7b",
      "placeholder": "​",
      "style": "IPY_MODEL_4c64ed9d39ba4e819a907d1c2491ba51",
      "value": " 3902/3902 [00:02&lt;00:00, 1800.32it/s]"
     }
    },
    "e3c798a24f8240f68c6ac56ae80bc352": {
     "model_module": "@jupyter-widgets/controls",
     "model_module_version": "1.5.0",
     "model_name": "ProgressStyleModel",
     "state": {
      "_model_module": "@jupyter-widgets/controls",
      "_model_module_version": "1.5.0",
      "_model_name": "ProgressStyleModel",
      "_view_count": null,
      "_view_module": "@jupyter-widgets/base",
      "_view_module_version": "1.2.0",
      "_view_name": "StyleView",
      "bar_color": null,
      "description_width": ""
     }
    },
    "e92c2bac6504436092fee609aa03bae1": {
     "model_module": "@jupyter-widgets/base",
     "model_module_version": "1.2.0",
     "model_name": "LayoutModel",
     "state": {
      "_model_module": "@jupyter-widgets/base",
      "_model_module_version": "1.2.0",
      "_model_name": "LayoutModel",
      "_view_count": null,
      "_view_module": "@jupyter-widgets/base",
      "_view_module_version": "1.2.0",
      "_view_name": "LayoutView",
      "align_content": null,
      "align_items": null,
      "align_self": null,
      "border": null,
      "bottom": null,
      "display": null,
      "flex": null,
      "flex_flow": null,
      "grid_area": null,
      "grid_auto_columns": null,
      "grid_auto_flow": null,
      "grid_auto_rows": null,
      "grid_column": null,
      "grid_gap": null,
      "grid_row": null,
      "grid_template_areas": null,
      "grid_template_columns": null,
      "grid_template_rows": null,
      "height": null,
      "justify_content": null,
      "justify_items": null,
      "left": null,
      "margin": null,
      "max_height": null,
      "max_width": null,
      "min_height": null,
      "min_width": null,
      "object_fit": null,
      "object_position": null,
      "order": null,
      "overflow": null,
      "overflow_x": null,
      "overflow_y": null,
      "padding": null,
      "right": null,
      "top": null,
      "visibility": null,
      "width": null
     }
    },
    "efae0869ccde405492f68a4671b196b8": {
     "model_module": "@jupyter-widgets/base",
     "model_module_version": "1.2.0",
     "model_name": "LayoutModel",
     "state": {
      "_model_module": "@jupyter-widgets/base",
      "_model_module_version": "1.2.0",
      "_model_name": "LayoutModel",
      "_view_count": null,
      "_view_module": "@jupyter-widgets/base",
      "_view_module_version": "1.2.0",
      "_view_name": "LayoutView",
      "align_content": null,
      "align_items": null,
      "align_self": null,
      "border": null,
      "bottom": null,
      "display": null,
      "flex": null,
      "flex_flow": null,
      "grid_area": null,
      "grid_auto_columns": null,
      "grid_auto_flow": null,
      "grid_auto_rows": null,
      "grid_column": null,
      "grid_gap": null,
      "grid_row": null,
      "grid_template_areas": null,
      "grid_template_columns": null,
      "grid_template_rows": null,
      "height": null,
      "justify_content": null,
      "justify_items": null,
      "left": null,
      "margin": null,
      "max_height": null,
      "max_width": null,
      "min_height": null,
      "min_width": null,
      "object_fit": null,
      "object_position": null,
      "order": null,
      "overflow": null,
      "overflow_x": null,
      "overflow_y": null,
      "padding": null,
      "right": null,
      "top": null,
      "visibility": null,
      "width": null
     }
    },
    "f26644a7a13c4708b4f7f49d086ca1ed": {
     "model_module": "@jupyter-widgets/base",
     "model_module_version": "1.2.0",
     "model_name": "LayoutModel",
     "state": {
      "_model_module": "@jupyter-widgets/base",
      "_model_module_version": "1.2.0",
      "_model_name": "LayoutModel",
      "_view_count": null,
      "_view_module": "@jupyter-widgets/base",
      "_view_module_version": "1.2.0",
      "_view_name": "LayoutView",
      "align_content": null,
      "align_items": null,
      "align_self": null,
      "border": null,
      "bottom": null,
      "display": null,
      "flex": null,
      "flex_flow": null,
      "grid_area": null,
      "grid_auto_columns": null,
      "grid_auto_flow": null,
      "grid_auto_rows": null,
      "grid_column": null,
      "grid_gap": null,
      "grid_row": null,
      "grid_template_areas": null,
      "grid_template_columns": null,
      "grid_template_rows": null,
      "height": null,
      "justify_content": null,
      "justify_items": null,
      "left": null,
      "margin": null,
      "max_height": null,
      "max_width": null,
      "min_height": null,
      "min_width": null,
      "object_fit": null,
      "object_position": null,
      "order": null,
      "overflow": null,
      "overflow_x": null,
      "overflow_y": null,
      "padding": null,
      "right": null,
      "top": null,
      "visibility": null,
      "width": null
     }
    },
    "f422e3db00db43df80a89645847c5f80": {
     "model_module": "@jupyter-widgets/controls",
     "model_module_version": "1.5.0",
     "model_name": "FloatProgressModel",
     "state": {
      "_dom_classes": [],
      "_model_module": "@jupyter-widgets/controls",
      "_model_module_version": "1.5.0",
      "_model_name": "FloatProgressModel",
      "_view_count": null,
      "_view_module": "@jupyter-widgets/controls",
      "_view_module_version": "1.5.0",
      "_view_name": "ProgressView",
      "bar_style": "danger",
      "description": "",
      "description_tooltip": null,
      "layout": "IPY_MODEL_3d67a36ff3a54072b587187e3a45c643",
      "max": 10,
      "min": 0,
      "orientation": "horizontal",
      "style": "IPY_MODEL_6b4624d18add4d958b9bdb83c890bd72",
      "value": 7
     }
    },
    "f869bbeec49548aa877ae5548b6ae6d4": {
     "model_module": "@jupyter-widgets/controls",
     "model_module_version": "1.5.0",
     "model_name": "ProgressStyleModel",
     "state": {
      "_model_module": "@jupyter-widgets/controls",
      "_model_module_version": "1.5.0",
      "_model_name": "ProgressStyleModel",
      "_view_count": null,
      "_view_module": "@jupyter-widgets/base",
      "_view_module_version": "1.2.0",
      "_view_name": "StyleView",
      "bar_color": null,
      "description_width": ""
     }
    },
    "f98ef68982474a00b717f9ecdbe75447": {
     "model_module": "@jupyter-widgets/controls",
     "model_module_version": "1.5.0",
     "model_name": "DescriptionStyleModel",
     "state": {
      "_model_module": "@jupyter-widgets/controls",
      "_model_module_version": "1.5.0",
      "_model_name": "DescriptionStyleModel",
      "_view_count": null,
      "_view_module": "@jupyter-widgets/base",
      "_view_module_version": "1.2.0",
      "_view_name": "StyleView",
      "description_width": ""
     }
    }
   }
  }
 },
 "nbformat": 4,
 "nbformat_minor": 1
}
